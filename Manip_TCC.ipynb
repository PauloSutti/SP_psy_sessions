{
  "nbformat": 4,
  "nbformat_minor": 0,
  "metadata": {
    "colab": {
      "name": "Manip_TCC.ipynb",
      "provenance": [],
      "authorship_tag": "ABX9TyMcgVKDvO3CqYrhyfJX2CbP",
      "include_colab_link": true
    },
    "kernelspec": {
      "name": "python3",
      "display_name": "Python 3"
    },
    "language_info": {
      "name": "python"
    }
  },
  "cells": [
    {
      "cell_type": "markdown",
      "metadata": {
        "id": "view-in-github",
        "colab_type": "text"
      },
      "source": [
        "<a href=\"https://colab.research.google.com/github/PauloSutti/SP_psy_sessions/blob/main/Manip_TCC.ipynb\" target=\"_parent\"><img src=\"https://colab.research.google.com/assets/colab-badge.svg\" alt=\"Open In Colab\"/></a>"
      ]
    },
    {
      "cell_type": "code",
      "metadata": {
        "colab": {
          "base_uri": "https://localhost:8080/"
        },
        "id": "iD9StZeAF1K-",
        "outputId": "0b508f68-909f-4415-91d0-f827731f8bb8"
      },
      "source": [
        "from google.colab import drive\n",
        "drive.mount('/content/drive')"
      ],
      "execution_count": null,
      "outputs": [
        {
          "output_type": "stream",
          "text": [
            "Drive already mounted at /content/drive; to attempt to forcibly remount, call drive.mount(\"/content/drive\", force_remount=True).\n"
          ],
          "name": "stdout"
        }
      ]
    },
    {
      "cell_type": "code",
      "metadata": {
        "id": "Oxs1wB2pGBBo"
      },
      "source": [
        "import pandas as pd\n",
        "import numpy as np\n",
        "import math"
      ],
      "execution_count": null,
      "outputs": []
    },
    {
      "cell_type": "code",
      "metadata": {
        "id": "jzUfB-DOMJDV"
      },
      "source": [
        "def mapping(data):\n",
        "  temp = data.query(\"Município!='&'\").query(\"Município!='Total'\").query(\"Município!='Município'\")\n",
        "  temp['Code'] = ''\n",
        "  temp['Cidades'] = ''\n",
        "  sub = temp['Município'].str.strip().str.split(n=1,expand=True).rename(columns={0:'Code',1:'Cidades'})\n",
        "  temp['Code'] = sub['Code']\n",
        "  temp['Cidades'] = sub['Cidades']\n",
        "  return temp"
      ],
      "execution_count": null,
      "outputs": []
    },
    {
      "cell_type": "code",
      "metadata": {
        "id": "qNRpVL0GMzVy"
      },
      "source": [
        "def datando1(data,num):\n",
        "  a = 0\n",
        "  data['data_ref'] = ''\n",
        "  for b in range(math.ceil(data.shape[0]/645)+1):\n",
        "    if (a) >= data.shape[0]:\n",
        "      break\n",
        "    else:\n",
        "      mirror = ''\n",
        "      mirror = []\n",
        "      for x in range(646):\n",
        "        if (a+x) >= data.shape[0]:\n",
        "          a = a + (x)\n",
        "          break\n",
        "        elif data['Município'].iloc[x+a] not in mirror:\n",
        "          mirror.append(data['Município'].iloc[x+a])\n",
        "          data.update(pd.DataFrame({'data_ref':(num+b)},index=[(a+x)]))\n",
        "        else:\n",
        "          a = a + (x)\n",
        "          break\n",
        "  return data"
      ],
      "execution_count": null,
      "outputs": []
    },
    {
      "cell_type": "code",
      "metadata": {
        "id": "4UFqgJQzLZzH"
      },
      "source": [
        "def datando1_var(data,num):\n",
        "  a = 0\n",
        "  data['data_ref'] = ''\n",
        "  for b in range(math.ceil(data.shape[0]/645)+1):\n",
        "    if (a) >= data.shape[0]:\n",
        "      break\n",
        "    else:\n",
        "      mirror = ''\n",
        "      mirror = []\n",
        "      for x in range(646):\n",
        "        if (a+x) >= data.shape[0]:\n",
        "          a = a + (x)\n",
        "          break\n",
        "        elif data['Município'].iloc[x+a] not in mirror:\n",
        "          mirror.append(data['Município'].iloc[x+a])\n",
        "          data.update(pd.DataFrame({'data_ref':(num-b)},index=[(a+x)]))\n",
        "        else:\n",
        "          a = a + (x)\n",
        "          break\n",
        "  return data"
      ],
      "execution_count": null,
      "outputs": []
    },
    {
      "cell_type": "code",
      "metadata": {
        "id": "OHl04ozVXWRl"
      },
      "source": [
        "def datando05(data,num):\n",
        "  a = 0\n",
        "  data['data_ref'] = ''\n",
        "  for b in range(math.ceil(data.shape[0]/645)+1):\n",
        "    if (a) >= data.shape[0]:\n",
        "      num = num + 0.5\n",
        "      break\n",
        "    else:\n",
        "      mirror = ''\n",
        "      mirror = []\n",
        "      for x in range(646):\n",
        "        if (a+x) >= data.shape[0]:\n",
        "          a = a + (x)\n",
        "          num = num + 0.5\n",
        "          break\n",
        "        elif data['Município'].iloc[x+a] not in mirror:\n",
        "          mirror.append(data['Município'].iloc[x+a])\n",
        "          data.update(pd.DataFrame({'data_ref':(num)},index=[(a+x)]))\n",
        "        else:\n",
        "          a = a + (x)\n",
        "          num = num + 0.5\n",
        "          break\n",
        "  return data"
      ],
      "execution_count": null,
      "outputs": []
    },
    {
      "cell_type": "code",
      "metadata": {
        "id": "_5yUt85fW2RK"
      },
      "source": [
        "def datando05_var(data,num):\n",
        "  a = 0\n",
        "  data['data_ref'] = ''\n",
        "  for b in range(math.ceil(data.shape[0]/640)+1):\n",
        "    if (a) >= data.shape[0]:\n",
        "      num = num - 0.5\n",
        "      break\n",
        "    else:\n",
        "      mirror = ''\n",
        "      mirror = []\n",
        "      for x in range(646):\n",
        "        if (a+x) >= data.shape[0]:\n",
        "          a = a + (x)\n",
        "          num = num - 0.5\n",
        "          break\n",
        "        elif data['Município'].iloc[x+a] not in mirror:\n",
        "          mirror.append(data['Município'].iloc[x+a])\n",
        "          data.update(pd.DataFrame({'data_ref':(num)},index=[(a+x)]))\n",
        "        else:\n",
        "          a = a + (x)\n",
        "          num = num - 0.5\n",
        "          break\n",
        "  return data"
      ],
      "execution_count": null,
      "outputs": []
    },
    {
      "cell_type": "code",
      "metadata": {
        "id": "1L2itml-5Zai"
      },
      "source": [
        "def medias(data,num,ano):\n",
        "  a = 1\n",
        "  b = 2\n",
        "  c = 3\n",
        "  d = 4\n",
        "  e = 5\n",
        "  f = 6\n",
        "  g = 7\n",
        "  h = 8\n",
        "  i = 9\n",
        "  j = 10\n",
        "  k = 11\n",
        "  l = 12\n",
        "  for x in range(num):\n",
        "    if x == 0 :\n",
        "      z = x    \n",
        "    else :\n",
        "      a = a+(12)\n",
        "      b = b+(12)\n",
        "      c = c+(12)\n",
        "      d = d+(12)\n",
        "      e = e+(12)\n",
        "      f = f+(12)\n",
        "      g = g+(12)\n",
        "      h = h+(12)\n",
        "      i = i+(12)\n",
        "      j = j+(12)\n",
        "      k = k+(12)\n",
        "      l = l+(12)\n",
        "\n",
        "    fill = str(ano+x)\n",
        "    data[f'{fill}'] = round(((data.iloc[0:,a]).astype(float) + (data.iloc[0:,b]).astype(float) + (data.iloc[0:,c]).astype(float) + (data.iloc[0:,d]).astype(float) + (data.iloc[0:,e]).astype(float) + (data.iloc[0:,f]).astype(float) + (data.iloc[0:,g]).astype(float) + (data.iloc[0:,h]).astype(float) + (data.iloc[0:,i]).astype(float) + (data.iloc[0:,j]).astype(float) + (data.iloc[0:,k]).astype(float) + (data.iloc[0:,l]).astype(float))/12,2)\n",
        "    \n",
        "  return data"
      ],
      "execution_count": null,
      "outputs": []
    },
    {
      "cell_type": "code",
      "metadata": {
        "id": "wkGm9NVC2qBX"
      },
      "source": [
        "def medias_adpt(data,num,ano):\n",
        "  a = 1\n",
        "  b = 2\n",
        "  c = 3\n",
        "  d = 4\n",
        "  e = 5\n",
        "  f = 6\n",
        "  g = 7\n",
        "  h = 8\n",
        "  i = 9\n",
        "  j = 10\n",
        "  k = 11\n",
        "  l = 12\n",
        "  for x in range(num):\n",
        "    if x == 0 :\n",
        "      z = x\n",
        "    elif (x+1) == num:\n",
        "      a = a+(12)\n",
        "      b = b+(12)\n",
        "      c = c+(12)\n",
        "      d = d+(12)\n",
        "      e = e+(12)\n",
        "      f = f+(12)\n",
        "      g = g+(12)\n",
        "      h = h+(12)\n",
        "      i = i+(12)\n",
        "      j = j+(12)\n",
        "      fill = str(ano+x)\n",
        "      data[f'{fill}'] = round(((data.iloc[0:,a]).astype(float) + (data.iloc[0:,b]).astype(float) + (data.iloc[0:,c]).astype(float) + (data.iloc[0:,d]).astype(float) + (data.iloc[0:,e]).astype(float) + (data.iloc[0:,f]).astype(float) + (data.iloc[0:,g]).astype(float) + (data.iloc[0:,h]).astype(float) + (data.iloc[0:,i]).astype(float) + (data.iloc[0:,j]).astype(float))/10,2)\n",
        "      break\n",
        "    else :\n",
        "      a = a+(12)\n",
        "      b = b+(12)\n",
        "      c = c+(12)\n",
        "      d = d+(12)\n",
        "      e = e+(12)\n",
        "      f = f+(12)\n",
        "      g = g+(12)\n",
        "      h = h+(12)\n",
        "      i = i+(12)\n",
        "      j = j+(12)\n",
        "      k = k+(12)\n",
        "      l = l+(12)\n",
        "\n",
        "    fill = str(ano+x)\n",
        "    data[f'{fill}'] = round(((data.iloc[0:,a]).astype(float) + (data.iloc[0:,b]).astype(float) + (data.iloc[0:,c]).astype(float) + (data.iloc[0:,d]).astype(float) + (data.iloc[0:,e]).astype(float) + (data.iloc[0:,f]).astype(float) + (data.iloc[0:,g]).astype(float) + (data.iloc[0:,h]).astype(float) + (data.iloc[0:,i]).astype(float) + (data.iloc[0:,j]).astype(float) + (data.iloc[0:,k]).astype(float) + (data.iloc[0:,l]).astype(float))/12,2)\n",
        "    \n",
        "  return data"
      ],
      "execution_count": null,
      "outputs": []
    },
    {
      "cell_type": "code",
      "metadata": {
        "id": "pB8K6ub9O5P9"
      },
      "source": [
        "path = 'Bases'"
      ],
      "execution_count": null,
      "outputs": []
    },
    {
      "cell_type": "code",
      "metadata": {
        "id": "htKEr7cHGFVA"
      },
      "source": [
        "#Dados IBGE (.xlsx)\n",
        "pib_perc = pd.read_excel(f'{path}/PIB_perc.xlsx')\n",
        "pib_tot = pd.read_excel(f'{path}/PIB_tot.xlsx')\n",
        "assalariados = pd.read_excel(f'{path}/Renda_assal.xlsx')\n",
        "renda_min = pd.read_excel(f'{path}/Renda_minimo.xlsx')\n",
        "renda_valor = pd.read_excel(f'{path}/Renda_valor.xlsx')"
      ],
      "execution_count": null,
      "outputs": []
    },
    {
      "cell_type": "code",
      "metadata": {
        "id": "hCIih2B-J5QJ"
      },
      "source": [
        "#Dados dataSUS (.txt) com estrutura fixa\n",
        "dataSUS_Est_Jur_DEC2005_DEC2011 = pd.read_csv(f'{path}/dataSUS_Est_Jur_DEC2005_DEC2011.txt',delimiter = ';')\n",
        "dataSUS_Prod_Amb_VAL_atend_JAN2005_DEC2007 = pd.read_csv(f'{path}/dataSUS_Prod_Amb_VAL_atend_JAN2005_DEC2007.txt',delimiter = ';')\n",
        "dataSUS_Prod_Amb_VAL_atend_JAN2008_ABR2021 = pd.read_csv(f'{path}/dataSUS_Prod_Amb_VAL_atend_JAN2008_ABR2021.txt',delimiter = ';')\n",
        "dataSUS_Prod_Amb_VAL_psi_JAN2005_DEC2007 = pd.read_csv(f'{path}/dataSUS_Prod_Amb_VAL_psi_JAN2005_DEC2007.txt',delimiter = ';')\n",
        "dataSUS_Prod_Amb_VAL_psi_JAN2008_ABR2021 = pd.read_csv(f'{path}/dataSUS_Prod_Amb_VAL_psi_JAN2008_ABR2021.txt',delimiter = ';')\n",
        "dataSUS_Prod_Amb_VAL_psi_privado_JAN2005_DEC2007 = pd.read_csv(f'{path}/dataSUS_Prod_Amb_VAL_psi_privado_JAN2005_DEC2007.txt',delimiter = ';')\n",
        "dataSUS_Prod_Amb_VAL_psi_privado_JAN2008_OUT2015 = pd.read_csv(f'{path}/dataSUS_Prod_Amb_VAL_psi_privado_JAN2008_ABR2021.txt',delimiter = ';')\n",
        "dataSUS_Prod_Amb_VOL_atend_JAN2005_DEC2007 = pd.read_csv(f'{path}/dataSUS_Prod_Amb_VOL_atend_JAN2005_DEC2007.txt',delimiter = ';')\n",
        "dataSUS_Prod_Amb_VOL_atend_JAN2008_ABR2021 = pd.read_csv(f'{path}/dataSUS_Prod_Amb_VOL_atend_JAN2008_ABR2021.txt',delimiter = ';')\n",
        "dataSUS_Prod_Amb_VOL_psi_JAN2005_DEC2007 = pd.read_csv(f'{path}/dataSUS_Prod_Amb_VOL_psi_JAN2005_DEC2007.txt',delimiter = ';')\n",
        "dataSUS_Prod_Amb_VOL_psi_JAN2008_ABR2021 = pd.read_csv(f'{path}/dataSUS_Prod_Amb_VOL_psi_JAN2008_ABR2021.txt',delimiter = ';')\n",
        "dataSUS_Prod_Amb_VOL_psi_privado_JAN2005_DEC2007 = pd.read_csv(f'{path}/dataSUS_Prod_Amb_VOL_psi_privado_JAN2005_DEC2007.txt',delimiter = ';')\n",
        "dataSUS_Prod_Amb_VOL_psi_privado_JAN2008_OUT2015 = pd.read_csv(f'{path}/dataSUS_Prod_Amb_VOL_psi_privado_JAN2008_ABR2021.txt',delimiter = ';')\n",
        "dataSUS_Prof_psi_DEC2005_JUN2007 = pd.read_csv(f'{path}/dataSUS_Prof_psi_DEC2005_JUN2007.txt',delimiter = ';')\n",
        "dataSUS_Prof_psi_DEC2007_DEC2020 = pd.read_csv(f'{path}/dataSUS_Prof_psi_DEC2007_DEC2020.txt',delimiter = ';')\n",
        "dataSUS_Proj_faixa_ano_2020_2000 = pd.read_csv(f'{path}/dataSUS_Proj_faixa_ano_2020_2000.txt',delimiter = ';')\n",
        "dataSUS_Proj_sexo_ano_2020_2000 = pd.read_csv(f'{path}/dataSUS_Proj_sexo_ano_2020_2000.txt',delimiter = ';')"
      ],
      "execution_count": null,
      "outputs": []
    },
    {
      "cell_type": "code",
      "metadata": {
        "id": "9aUiqYUG2_GB"
      },
      "source": [
        "#header consolidado para dados de tipos de estabelecimentos\n",
        "h = [\"Município\",\"CENTRO DE SAUDE/UNIDADE BASICA DE SAUDE\",\"CENTRAL DE REGULACAO DE SERVICOS DE SAUDE\",\"CLINICA ESPECIALIZADA/AMBULATORIO ESPECIALIZADO\",\"CONSULTORIO\",\"COOPERATIVA\",\"FARMACIA\",\"HOSPITAL ESPECIALIZADO\",\"HOSPITAL GERAL\",\"HOSPITAL DIA\",\"POLICLINICA\",\"POSTO DE SAUDE\",\"PRONTO SOCORRO ESPECIALIZADO\",\"PRONTO SOCORRO GERAL\",\"UNIDADE DE SERVICO DE APOIO DE DIAGNOSE E TERAPIA\",\"UNIDADE DE VIGILANCIA EM SAUDE\",\"UNIDADE DE VIGILANCIA EPIDEMIOLOGIA (ANTIGO)\",\"UNIDADE MISTA\",\"UNIDADE MOVEL DE NIVEL PRE-HOSP-URGENCIA/EMERGENCI\",\"UNIDADE MOVEL TERRESTRE\",\"PRONTO SOCORRO DE HOSPITAL GERAL (ANTIGO)\",\"Total\",\"Município\",\"ACADEMIA DA SAÚDE\",\"CENTRAL DE REGUALAÇÃO\",\"CENTRAL DE REGULAÇÃO MÉDICA DAS URGÊNCIAS\",\"CENTRO DE APOIO A SAÚDE DA FAMÍLIA-CASF\",\"CENTRO DE ATENÇÃO HEMOTERÁPICA E/OU HEMATOLÓGICA\",\"CENTRO DE ATENÇÃO PSICOSSOCIAL-CAPS\",\"CENTRO DE PARTO NORMAL\",\"CENTRO DE SAUDE/UNIDADE BASICA DE SAUDE\",\"CENTRAL DE REGULACAO DE SERVICOS DE SAUDE\",\"CENTRAL DE NOTIF. CAPTAÇÃO E DISTR. ÓRGÃOS ESTADUA\",\"CLINICA ESPECIALIZADA/AMBULATORIO ESPECIALIZADO\",\"CONSULTORIO\",\"COOPERATIVA\",\"FARMACIA\",\"HOSPITAL ESPECIALIZADO\",\"HOSPITAL GERAL\",\"HOSPITAL DIA\",\"LABORATORIO CENTRAL DE SAUDE PUBLICA - LACEN\",\"LABORATORIO DE SAUDE PUBLICA\",\"POLICLINICA\",\"OFICINA ORTOPEDICA\",\"POSTO DE SAUDE\",\"PRONTO ANTEDIMENTO\",\"PRONTO SOCORRO ESPECIALIZADO\",\"PRONTO SOCORRO GERAL\",\"SECRETARIA DE SAUDE\",\"SERVICO DE ATENCAO DOMICILIAR ISOLADO(HOME CARE)\",\"UNIDADE DE ATENÇÃO À SAÚDE INDÍGENA\",\"UNIDADE DE ATENCAO EM REGIME RESIDENCIAL\",\"UNIDADE DE SERVICO DE APOIO DE DIAGNOSE E TERAPIA\",\"UNIDADE DE VIGILANCIA EM SAUDE\",\"UNIDADE MISTA\",\"UNIDADE MOVEL DE NIVEL PRE-HOSP-URGENCIA/EMERGENCI\",\"UNIDADE MOVEL TERRESTRE\",\"TELESAÚDE\",\"POLO PREV.DE DOENCAS E AGRAVOS E PROMOCAO DA SAUDE\",\"Total\",\"Município\",\"ACADEMIA DA SAÚDE\",\"CENTRAL DE REGUALAÇÃO\",\"CENTRAL DE REGULAÇÃO MÉDICA DAS URGÊNCIAS\",\"CENTRO DE APOIO A SAÚDE DA FAMÍLIA-CASF\",\"CENTRO DE ATENÇÃO HEMOTERÁPICA E/OU HEMATOLÓGICA\",\"CENTRO DE ATENÇÃO PSICOSSOCIAL-CAPS\",\"CENTRO DE PARTO NORMAL\",\"CENTRO DE SAUDE/UNIDADE BASICA DE SAUDE\",\"CENTRAL DE REGULACAO DE SERVICOS DE SAUDE\",\"CENTRAL DE NOTIF. CAPTAÇÃO E DISTR. ÓRGÃOS ESTADUA\",\"CLINICA ESPECIALIZADA/AMBULATORIO ESPECIALIZADO\",\"CONSULTORIO\",\"COOPERATIVA\",\"FARMACIA\",\"HOSPITAL ESPECIALIZADO\",\"HOSPITAL GERAL\",\"HOSPITAL DIA\",\"LABORATORIO CENTRAL DE SAUDE PUBLICA - LACEN\",\"LABORATORIO DE SAUDE PUBLICA\",\"POLICLINICA\",\"OFICINA ORTOPEDICA\",\"POSTO DE SAUDE\",\"PRONTO ANTEDIMENTO\",\"PRONTO SOCORRO ESPECIALIZADO\",\"PRONTO SOCORRO GERAL\",\"SECRETARIA DE SAUDE\",\"SERVICO DE ATENCAO DOMICILIAR ISOLADO(HOME CARE)\",\"UNIDADE DE ATENÇÃO À SAÚDE INDÍGENA\",\"UNIDADE DE ATENCAO EM REGIME RESIDENCIAL\",\"UNIDADE DE SERVICO DE APOIO DE DIAGNOSE E TERAPIA\",\"UNIDADE DE VIGILANCIA EM SAUDE\",\"UNIDADE MISTA\",\"UNIDADE MOVEL DE NIVEL PRE-HOSP-URGENCIA/EMERGENCI\",\"UNIDADE MOVEL TERRESTRE\",\"TELESAÚDE\",\"POLO PREV.DE DOENCAS E AGRAVOS E PROMOCAO DA SAUDE\",\"Total\",\"Município\",\"CENTRO DE PARTO NORMAL\",\"CENTRO DE SAUDE/UNIDADE BASICA DE SAUDE\",\"CENTRAL DE REGULACAO DE SERVICOS DE SAUDE\",\"CLINICA ESPECIALIZADA/AMBULATORIO ESPECIALIZADO\",\"CONSULTORIO\",\"COOPERATIVA\",\"FARMACIA\",\"HOSPITAL ESPECIALIZADO\",\"HOSPITAL GERAL\",\"HOSPITAL DIA\",\"POLICLINICA\",\"POSTO DE SAUDE\",\"PRONTO SOCORRO ESPECIALIZADO\",\"PRONTO SOCORRO GERAL\",\"UNIDADE DE SERVICO DE APOIO DE DIAGNOSE E TERAPIA\",\"UNIDADE DE VIGILANCIA EM SAUDE\",\"UNIDADE MISTA\",\"UNIDADE MOVEL DE NIVEL PRE-HOSP-URGENCIA/EMERGENCI\",\"UNIDADE MOVEL FLUVIAL\",\"UNIDADE MOVEL TERRESTRE\",\"Total\",\"Município\",\"CENTRO DE PARTO NORMAL\",\"CENTRO DE SAUDE/UNIDADE BASICA DE SAUDE\",\"CENTRAL DE REGULACAO DE SERVICOS DE SAUDE\",\"CLINICA ESPECIALIZADA/AMBULATORIO ESPECIALIZADO\",\"CONSULTORIO\",\"COOPERATIVA\",\"FARMACIA\",\"HOSPITAL ESPECIALIZADO\",\"HOSPITAL GERAL\",\"HOSPITAL DIA\",\"POLICLINICA\",\"POSTO DE SAUDE\",\"PRONTO SOCORRO ESPECIALIZADO\",\"PRONTO SOCORRO GERAL\",\"UNIDADE DE SERVICO DE APOIO DE DIAGNOSE E TERAPIA\",\"UNIDADE DE VIGILANCIA EM SAUDE\",\"UNIDADE MISTA\",\"UNIDADE MOVEL DE NIVEL PRE-HOSP-URGENCIA/EMERGENCI\",\"UNIDADE MOVEL FLUVIAL\",\"UNIDADE MOVEL TERRESTRE\",\"Total\",\"Município\",\"CENTRO DE PARTO NORMAL\",\"CENTRO DE SAUDE/UNIDADE BASICA DE SAUDE\",\"CENTRAL DE REGULACAO DE SERVICOS DE SAUDE\",\"CLINICA ESPECIALIZADA/AMBULATORIO ESPECIALIZADO\",\"CONSULTORIO\",\"COOPERATIVA\",\"FARMACIA\",\"HOSPITAL ESPECIALIZADO\",\"HOSPITAL GERAL\",\"HOSPITAL DIA\",\"POLICLINICA\",\"POSTO DE SAUDE\",\"PRONTO SOCORRO ESPECIALIZADO\",\"PRONTO SOCORRO GERAL\",\"SECRETARIA DE SAUDE\",\"UNIDADE DE SERVICO DE APOIO DE DIAGNOSE E TERAPIA\",\"UNIDADE DE VIGILANCIA EM SAUDE\",\"UNIDADE MISTA\",\"UNIDADE MOVEL DE NIVEL PRE-HOSP-URGENCIA/EMERGENCI\",\"UNIDADE MOVEL FLUVIAL\",\"UNIDADE MOVEL TERRESTRE\",\"Total\",\"Município\",\"CENTRO DE PARTO NORMAL\",\"CENTRO DE SAUDE/UNIDADE BASICA DE SAUDE\",\"CENTRAL DE REGULACAO DE SERVICOS DE SAUDE\",\"CLINICA ESPECIALIZADA/AMBULATORIO ESPECIALIZADO\",\"CONSULTORIO\",\"COOPERATIVA\",\"FARMACIA\",\"HOSPITAL ESPECIALIZADO\",\"HOSPITAL GERAL\",\"HOSPITAL DIA\",\"LABORATORIO CENTRAL DE SAUDE PUBLICA - LACEN\",\"POLICLINICA\",\"POSTO DE SAUDE\",\"PRONTO SOCORRO ESPECIALIZADO\",\"PRONTO SOCORRO GERAL\",\"SECRETARIA DE SAUDE\",\"UNIDADE DE SERVICO DE APOIO DE DIAGNOSE E TERAPIA\",\"UNIDADE DE VIGILANCIA EM SAUDE\",\"UNIDADE MISTA\",\"UNIDADE MOVEL DE NIVEL PRE-HOSP-URGENCIA/EMERGENCI\",\"UNIDADE MOVEL FLUVIAL\",\"UNIDADE MOVEL TERRESTRE\",\"Total\",\"Município\",\"CENTRO DE APOIO A SAÚDE DA FAMÍLIA-CASF\",\"CENTRO DE ATENÇÃO HEMOTERÁPICA E/OU HEMATOLÓGICA\",\"CENTRO DE ATENÇÃO PSICOSSOCIAL-CAPS\",\"CENTRO DE PARTO NORMAL\",\"CENTRO DE SAUDE/UNIDADE BASICA DE SAUDE\",\"CENTRAL DE REGULACAO DE SERVICOS DE SAUDE\",\"CLINICA ESPECIALIZADA/AMBULATORIO ESPECIALIZADO\",\"CONSULTORIO\",\"COOPERATIVA\",\"FARMACIA\",\"HOSPITAL ESPECIALIZADO\",\"HOSPITAL GERAL\",\"HOSPITAL DIA\",\"LABORATORIO CENTRAL DE SAUDE PUBLICA - LACEN\",\"POLICLINICA\",\"POSTO DE SAUDE\",\"PRONTO SOCORRO ESPECIALIZADO\",\"PRONTO SOCORRO GERAL\",\"SECRETARIA DE SAUDE\",\"UNIDADE DE SERVICO DE APOIO DE DIAGNOSE E TERAPIA\",\"UNIDADE DE VIGILANCIA EM SAUDE\",\"UNIDADE MISTA\",\"UNIDADE MOVEL DE NIVEL PRE-HOSP-URGENCIA/EMERGENCI\",\"UNIDADE MOVEL FLUVIAL\",\"UNIDADE MOVEL TERRESTRE\",\"Total\",\"Município\",\"CENTRO DE APOIO A SAÚDE DA FAMÍLIA-CASF\",\"CENTRO DE ATENÇÃO HEMOTERÁPICA E/OU HEMATOLÓGICA\",\"CENTRO DE ATENÇÃO PSICOSSOCIAL-CAPS\",\"CENTRO DE PARTO NORMAL\",\"CENTRO DE SAUDE/UNIDADE BASICA DE SAUDE\",\"CENTRAL DE REGULACAO DE SERVICOS DE SAUDE\",\"CLINICA ESPECIALIZADA/AMBULATORIO ESPECIALIZADO\",\"CONSULTORIO\",\"COOPERATIVA\",\"FARMACIA\",\"HOSPITAL ESPECIALIZADO\",\"HOSPITAL GERAL\",\"HOSPITAL DIA\",\"LABORATORIO CENTRAL DE SAUDE PUBLICA - LACEN\",\"POLICLINICA\",\"POSTO DE SAUDE\",\"PRONTO SOCORRO ESPECIALIZADO\",\"PRONTO SOCORRO GERAL\",\"SECRETARIA DE SAUDE\",\"UNIDADE DE SERVICO DE APOIO DE DIAGNOSE E TERAPIA\",\"UNIDADE DE VIGILANCIA EM SAUDE\",\"UNIDADE MISTA\",\"UNIDADE MOVEL DE NIVEL PRE-HOSP-URGENCIA/EMERGENCI\",\"UNIDADE MOVEL FLUVIAL\",\"UNIDADE MOVEL TERRESTRE\",\"Total\",\"Município\",\"CENTRO DE APOIO A SAÚDE DA FAMÍLIA-CASF\",\"CENTRO DE ATENÇÃO HEMOTERÁPICA E/OU HEMATOLÓGICA\",\"CENTRO DE ATENÇÃO PSICOSSOCIAL-CAPS\",\"CENTRO DE PARTO NORMAL\",\"CENTRO DE SAUDE/UNIDADE BASICA DE SAUDE\",\"CENTRAL DE REGULACAO DE SERVICOS DE SAUDE\",\"CLINICA ESPECIALIZADA/AMBULATORIO ESPECIALIZADO\",\"CONSULTORIO\",\"COOPERATIVA\",\"FARMACIA\",\"HOSPITAL ESPECIALIZADO\",\"HOSPITAL GERAL\",\"HOSPITAL DIA\",\"LABORATORIO CENTRAL DE SAUDE PUBLICA - LACEN\",\"POLICLINICA\",\"POSTO DE SAUDE\",\"PRONTO SOCORRO ESPECIALIZADO\",\"PRONTO SOCORRO GERAL\",\"SECRETARIA DE SAUDE\",\"UNIDADE DE SERVICO DE APOIO DE DIAGNOSE E TERAPIA\",\"UNIDADE DE VIGILANCIA EM SAUDE\",\"UNIDADE MISTA\",\"UNIDADE MOVEL DE NIVEL PRE-HOSP-URGENCIA/EMERGENCI\",\"UNIDADE MOVEL FLUVIAL\",\"UNIDADE MOVEL TERRESTRE\",\"Total\",\"Município\",\"CENTRO DE APOIO A SAÚDE DA FAMÍLIA-CASF\",\"CENTRO DE ATENÇÃO HEMOTERÁPICA E/OU HEMATOLÓGICA\",\"CENTRO DE ATENÇÃO PSICOSSOCIAL-CAPS\",\"CENTRO DE PARTO NORMAL\",\"CENTRO DE SAUDE/UNIDADE BASICA DE SAUDE\",\"CENTRAL DE REGULACAO DE SERVICOS DE SAUDE\",\"CLINICA ESPECIALIZADA/AMBULATORIO ESPECIALIZADO\",\"CONSULTORIO\",\"COOPERATIVA\",\"FARMACIA\",\"HOSPITAL ESPECIALIZADO\",\"HOSPITAL GERAL\",\"HOSPITAL DIA\",\"LABORATORIO CENTRAL DE SAUDE PUBLICA - LACEN\",\"POLICLINICA\",\"POSTO DE SAUDE\",\"PRONTO SOCORRO ESPECIALIZADO\",\"PRONTO SOCORRO GERAL\",\"SECRETARIA DE SAUDE\",\"UNIDADE DE SERVICO DE APOIO DE DIAGNOSE E TERAPIA\",\"UNIDADE DE VIGILANCIA EM SAUDE\",\"UNIDADE MISTA\",\"UNIDADE MOVEL DE NIVEL PRE-HOSP-URGENCIA/EMERGENCI\",\"UNIDADE MOVEL TERRESTRE\",\"Total\",\"Município\",\"CENTRO DE APOIO A SAÚDE DA FAMÍLIA-CASF\",\"CENTRO DE ATENÇÃO HEMOTERÁPICA E/OU HEMATOLÓGICA\",\"CENTRO DE ATENÇÃO PSICOSSOCIAL-CAPS\",\"CENTRO DE PARTO NORMAL\",\"CENTRO DE SAUDE/UNIDADE BASICA DE SAUDE\",\"CENTRAL DE REGULACAO DE SERVICOS DE SAUDE\",\"CLINICA ESPECIALIZADA/AMBULATORIO ESPECIALIZADO\",\"CONSULTORIO\",\"COOPERATIVA\",\"FARMACIA\",\"HOSPITAL ESPECIALIZADO\",\"HOSPITAL GERAL\",\"HOSPITAL DIA\",\"LABORATORIO CENTRAL DE SAUDE PUBLICA - LACEN\",\"POLICLINICA\",\"POSTO DE SAUDE\",\"PRONTO SOCORRO ESPECIALIZADO\",\"PRONTO SOCORRO GERAL\",\"SECRETARIA DE SAUDE\",\"UNIDADE DE SERVICO DE APOIO DE DIAGNOSE E TERAPIA\",\"UNIDADE DE VIGILANCIA EM SAUDE\",\"UNIDADE MISTA\",\"UNIDADE MOVEL DE NIVEL PRE-HOSP-URGENCIA/EMERGENCI\",\"UNIDADE MOVEL TERRESTRE\",\"Total\",\"Município\",\"CENTRO DE APOIO A SAÚDE DA FAMÍLIA-CASF\",\"CENTRO DE ATENÇÃO HEMOTERÁPICA E/OU HEMATOLÓGICA\",\"CENTRO DE ATENÇÃO PSICOSSOCIAL-CAPS\",\"CENTRO DE PARTO NORMAL\",\"CENTRO DE SAUDE/UNIDADE BASICA DE SAUDE\",\"CENTRAL DE REGULACAO DE SERVICOS DE SAUDE\",\"CLINICA ESPECIALIZADA/AMBULATORIO ESPECIALIZADO\",\"CONSULTORIO\",\"COOPERATIVA\",\"FARMACIA\",\"HOSPITAL ESPECIALIZADO\",\"HOSPITAL GERAL\",\"HOSPITAL DIA\",\"LABORATORIO CENTRAL DE SAUDE PUBLICA - LACEN\",\"POLICLINICA\",\"POSTO DE SAUDE\",\"PRONTO ANTEDIMENTO\",\"PRONTO SOCORRO ESPECIALIZADO\",\"PRONTO SOCORRO GERAL\",\"SECRETARIA DE SAUDE\",\"UNIDADE DE SERVICO DE APOIO DE DIAGNOSE E TERAPIA\",\"UNIDADE DE VIGILANCIA EM SAUDE\",\"UNIDADE MISTA\",\"UNIDADE MOVEL DE NIVEL PRE-HOSP-URGENCIA/EMERGENCI\",\"UNIDADE MOVEL TERRESTRE\",\"Total\",\"Município\",\"CENTRO DE APOIO A SAÚDE DA FAMÍLIA-CASF\",\"CENTRO DE ATENÇÃO HEMOTERÁPICA E/OU HEMATOLÓGICA\",\"CENTRO DE ATENÇÃO PSICOSSOCIAL-CAPS\",\"CENTRO DE PARTO NORMAL\",\"CENTRO DE SAUDE/UNIDADE BASICA DE SAUDE\",\"CENTRAL DE REGULACAO DE SERVICOS DE SAUDE\",\"CLINICA ESPECIALIZADA/AMBULATORIO ESPECIALIZADO\",\"CONSULTORIO\",\"COOPERATIVA\",\"FARMACIA\",\"HOSPITAL ESPECIALIZADO\",\"HOSPITAL GERAL\",\"HOSPITAL DIA\",\"LABORATORIO CENTRAL DE SAUDE PUBLICA - LACEN\",\"POLICLINICA\",\"POSTO DE SAUDE\",\"PRONTO ANTEDIMENTO\",\"PRONTO SOCORRO ESPECIALIZADO\",\"PRONTO SOCORRO GERAL\",\"SECRETARIA DE SAUDE\",\"UNIDADE DE SERVICO DE APOIO DE DIAGNOSE E TERAPIA\",\"UNIDADE DE VIGILANCIA EM SAUDE\",\"UNIDADE MISTA\",\"UNIDADE MOVEL DE NIVEL PRE-HOSP-URGENCIA/EMERGENCI\",\"UNIDADE MOVEL TERRESTRE\",\"Total\",\"Município\",\"ACADEMIA DA SAÚDE\",\"CENTRO DE APOIO A SAÚDE DA FAMÍLIA-CASF\",\"CENTRO DE ATENÇÃO HEMOTERÁPICA E/OU HEMATOLÓGICA\",\"CENTRO DE ATENÇÃO PSICOSSOCIAL-CAPS\",\"CENTRO DE PARTO NORMAL\",\"CENTRO DE SAUDE/UNIDADE BASICA DE SAUDE\",\"CENTRAL DE REGULACAO DE SERVICOS DE SAUDE\",\"CLINICA ESPECIALIZADA/AMBULATORIO ESPECIALIZADO\",\"CONSULTORIO\",\"COOPERATIVA\",\"FARMACIA\",\"HOSPITAL ESPECIALIZADO\",\"HOSPITAL GERAL\",\"HOSPITAL DIA\",\"LABORATORIO CENTRAL DE SAUDE PUBLICA - LACEN\",\"POLICLINICA\",\"POSTO DE SAUDE\",\"PRONTO ANTEDIMENTO\",\"PRONTO SOCORRO ESPECIALIZADO\",\"PRONTO SOCORRO GERAL\",\"SECRETARIA DE SAUDE\",\"UNIDADE DE ATENÇÃO À SAÚDE INDÍGENA\",\"UNIDADE DE SERVICO DE APOIO DE DIAGNOSE E TERAPIA\",\"UNIDADE DE VIGILANCIA EM SAUDE\",\"UNIDADE MISTA\",\"UNIDADE MOVEL DE NIVEL PRE-HOSP-URGENCIA/EMERGENCI\",\"UNIDADE MOVEL TERRESTRE\",\"Total\",\"Município\",\"ACADEMIA DA SAÚDE\",\"CENTRAL DE REGULAÇÃO MÉDICA DAS URGÊNCIAS\",\"CENTRO DE APOIO A SAÚDE DA FAMÍLIA-CASF\",\"CENTRO DE ATENÇÃO HEMOTERÁPICA E/OU HEMATOLÓGICA\",\"CENTRO DE ATENÇÃO PSICOSSOCIAL-CAPS\",\"CENTRO DE PARTO NORMAL\",\"CENTRO DE SAUDE/UNIDADE BASICA DE SAUDE\",\"CENTRAL DE REGULACAO DE SERVICOS DE SAUDE\",\"CLINICA ESPECIALIZADA/AMBULATORIO ESPECIALIZADO\",\"CONSULTORIO\",\"COOPERATIVA\",\"FARMACIA\",\"HOSPITAL ESPECIALIZADO\",\"HOSPITAL GERAL\",\"HOSPITAL DIA\",\"LABORATORIO CENTRAL DE SAUDE PUBLICA - LACEN\",\"POLICLINICA\",\"POSTO DE SAUDE\",\"PRONTO ANTEDIMENTO\",\"PRONTO SOCORRO ESPECIALIZADO\",\"PRONTO SOCORRO GERAL\",\"SECRETARIA DE SAUDE\",\"UNIDADE DE ATENÇÃO À SAÚDE INDÍGENA\",\"UNIDADE DE SERVICO DE APOIO DE DIAGNOSE E TERAPIA\",\"UNIDADE DE VIGILANCIA EM SAUDE\",\"UNIDADE MISTA\",\"UNIDADE MOVEL DE NIVEL PRE-HOSP-URGENCIA/EMERGENCI\",\"UNIDADE MOVEL TERRESTRE\",\"TELESAÚDE\",\"Total\",\"Município\",\"ACADEMIA DA SAÚDE\",\"CENTRAL DE REGUALAÇÃO\",\"CENTRAL DE REGULAÇÃO MÉDICA DAS URGÊNCIAS\",\"CENTRO DE APOIO A SAÚDE DA FAMÍLIA-CASF\",\"CENTRO DE ATENÇÃO HEMOTERÁPICA E/OU HEMATOLÓGICA\",\"CENTRO DE ATENÇÃO PSICOSSOCIAL-CAPS\",\"CENTRO DE PARTO NORMAL\",\"CENTRO DE SAUDE/UNIDADE BASICA DE SAUDE\",\"CENTRAL DE REGULACAO DE SERVICOS DE SAUDE\",\"CLINICA ESPECIALIZADA/AMBULATORIO ESPECIALIZADO\",\"CONSULTORIO\",\"COOPERATIVA\",\"FARMACIA\",\"HOSPITAL ESPECIALIZADO\",\"HOSPITAL GERAL\",\"HOSPITAL DIA\",\"LABORATORIO CENTRAL DE SAUDE PUBLICA - LACEN\",\"POLICLINICA\",\"POSTO DE SAUDE\",\"PRONTO ANTEDIMENTO\",\"PRONTO SOCORRO ESPECIALIZADO\",\"PRONTO SOCORRO GERAL\",\"SECRETARIA DE SAUDE\",\"SERVICO DE ATENCAO DOMICILIAR ISOLADO(HOME CARE)\",\"UNIDADE DE ATENÇÃO À SAÚDE INDÍGENA\",\"UNIDADE DE ATENCAO EM REGIME RESIDENCIAL\",\"UNIDADE DE SERVICO DE APOIO DE DIAGNOSE E TERAPIA\",\"UNIDADE DE VIGILANCIA EM SAUDE\",\"UNIDADE MISTA\",\"UNIDADE MOVEL DE NIVEL PRE-HOSP-URGENCIA/EMERGENCI\",\"UNIDADE MOVEL TERRESTRE\",\"TELESAÚDE\",\"Total\",\"Município\",\"ACADEMIA DA SAÚDE\",\"CENTRAL DE REGUALAÇÃO\",\"CENTRAL DE REGULAÇÃO MÉDICA DAS URGÊNCIAS\",\"CENTRO DE APOIO A SAÚDE DA FAMÍLIA-CASF\",\"CENTRO DE ATENÇÃO HEMOTERÁPICA E/OU HEMATOLÓGICA\",\"CENTRO DE ATENÇÃO PSICOSSOCIAL-CAPS\",\"CENTRO DE PARTO NORMAL\",\"CENTRO DE SAUDE/UNIDADE BASICA DE SAUDE\",\"CENTRAL DE REGULACAO DE SERVICOS DE SAUDE\",\"CLINICA ESPECIALIZADA/AMBULATORIO ESPECIALIZADO\",\"CONSULTORIO\",\"COOPERATIVA\",\"FARMACIA\",\"HOSPITAL ESPECIALIZADO\",\"HOSPITAL GERAL\",\"HOSPITAL DIA\",\"LABORATORIO CENTRAL DE SAUDE PUBLICA - LACEN\",\"POLICLINICA\",\"POSTO DE SAUDE\",\"PRONTO ANTEDIMENTO\",\"PRONTO SOCORRO ESPECIALIZADO\",\"PRONTO SOCORRO GERAL\",\"SECRETARIA DE SAUDE\",\"SERVICO DE ATENCAO DOMICILIAR ISOLADO(HOME CARE)\",\"UNIDADE DE ATENÇÃO À SAÚDE INDÍGENA\",\"UNIDADE DE SERVICO DE APOIO DE DIAGNOSE E TERAPIA\",\"UNIDADE DE VIGILANCIA EM SAUDE\",\"UNIDADE MISTA\",\"UNIDADE MOVEL DE NIVEL PRE-HOSP-URGENCIA/EMERGENCI\",\"UNIDADE MOVEL TERRESTRE\",\"TELESAÚDE\",\"Total\",\"Município\",\"ACADEMIA DA SAÚDE\",\"CENTRAL DE REGUALAÇÃO\",\"CENTRAL DE REGULAÇÃO MÉDICA DAS URGÊNCIAS\",\"CENTRO DE APOIO A SAÚDE DA FAMÍLIA-CASF\",\"CENTRO DE ATENÇÃO HEMOTERÁPICA E/OU HEMATOLÓGICA\",\"CENTRO DE ATENÇÃO PSICOSSOCIAL-CAPS\",\"CENTRO DE PARTO NORMAL\",\"CENTRO DE SAUDE/UNIDADE BASICA DE SAUDE\",\"CENTRAL DE REGULACAO DE SERVICOS DE SAUDE\",\"CLINICA ESPECIALIZADA/AMBULATORIO ESPECIALIZADO\",\"CONSULTORIO\",\"COOPERATIVA\",\"FARMACIA\",\"HOSPITAL ESPECIALIZADO\",\"HOSPITAL GERAL\",\"HOSPITAL DIA\",\"LABORATORIO CENTRAL DE SAUDE PUBLICA - LACEN\",\"LABORATORIO DE SAUDE PUBLICA\",\"POLICLINICA\",\"POSTO DE SAUDE\",\"PRONTO ANTEDIMENTO\",\"PRONTO SOCORRO ESPECIALIZADO\",\"PRONTO SOCORRO GERAL\",\"SECRETARIA DE SAUDE\",\"SERVICO DE ATENCAO DOMICILIAR ISOLADO(HOME CARE)\",\"UNIDADE DE ATENÇÃO À SAÚDE INDÍGENA\",\"UNIDADE DE SERVICO DE APOIO DE DIAGNOSE E TERAPIA\",\"UNIDADE DE VIGILANCIA EM SAUDE\",\"UNIDADE MISTA\",\"UNIDADE MOVEL DE NIVEL PRE-HOSP-URGENCIA/EMERGENCI\",\"UNIDADE MOVEL TERRESTRE\",\"TELESAÚDE\",\"Total\",\"Município\",\"ACADEMIA DA SAÚDE\",\"CENTRAL DE REGUALAÇÃO\",\"CENTRAL DE REGULAÇÃO MÉDICA DAS URGÊNCIAS\",\"CENTRO DE APOIO A SAÚDE DA FAMÍLIA-CASF\",\"CENTRO DE ATENÇÃO HEMOTERÁPICA E/OU HEMATOLÓGICA\",\"CENTRO DE ATENÇÃO PSICOSSOCIAL-CAPS\",\"CENTRO DE PARTO NORMAL\",\"CENTRO DE SAUDE/UNIDADE BASICA DE SAUDE\",\"CENTRAL DE REGULACAO DE SERVICOS DE SAUDE\",\"CLINICA ESPECIALIZADA/AMBULATORIO ESPECIALIZADO\",\"CONSULTORIO\",\"COOPERATIVA\",\"FARMACIA\",\"HOSPITAL ESPECIALIZADO\",\"HOSPITAL GERAL\",\"HOSPITAL DIA\",\"LABORATORIO CENTRAL DE SAUDE PUBLICA - LACEN\",\"LABORATORIO DE SAUDE PUBLICA\",\"POLICLINICA\",\"POSTO DE SAUDE\",\"PRONTO ANTEDIMENTO\",\"PRONTO SOCORRO ESPECIALIZADO\",\"PRONTO SOCORRO GERAL\",\"SECRETARIA DE SAUDE\",\"SERVICO DE ATENCAO DOMICILIAR ISOLADO(HOME CARE)\",\"UNIDADE DE ATENÇÃO À SAÚDE INDÍGENA\",\"UNIDADE DE ATENCAO EM REGIME RESIDENCIAL\",\"UNIDADE DE SERVICO DE APOIO DE DIAGNOSE E TERAPIA\",\"UNIDADE DE VIGILANCIA EM SAUDE\",\"UNIDADE MISTA\",\"UNIDADE MOVEL DE NIVEL PRE-HOSP-URGENCIA/EMERGENCI\",\"UNIDADE MOVEL TERRESTRE\",\"TELESAÚDE\",\"Total\",\"Município\",\"ACADEMIA DA SAÚDE\",\"CENTRAL DE REGUALAÇÃO\",\"CENTRAL DE REGULAÇÃO MÉDICA DAS URGÊNCIAS\",\"CENTRO DE APOIO A SAÚDE DA FAMÍLIA-CASF\",\"CENTRO DE ATENÇÃO HEMOTERÁPICA E/OU HEMATOLÓGICA\",\"CENTRO DE ATENÇÃO PSICOSSOCIAL-CAPS\",\"CENTRO DE PARTO NORMAL\",\"CENTRO DE SAUDE/UNIDADE BASICA DE SAUDE\",\"CENTRAL DE REGULACAO DE SERVICOS DE SAUDE\",\"CENTRAL DE NOTIF. CAPTAÇÃO E DISTR. ÓRGÃOS ESTADUA\",\"CLINICA ESPECIALIZADA/AMBULATORIO ESPECIALIZADO\",\"CONSULTORIO\",\"COOPERATIVA\",\"FARMACIA\",\"HOSPITAL ESPECIALIZADO\",\"HOSPITAL GERAL\",\"HOSPITAL DIA\",\"LABORATORIO CENTRAL DE SAUDE PUBLICA - LACEN\",\"LABORATORIO DE SAUDE PUBLICA\",\"POLICLINICA\",\"POSTO DE SAUDE\",\"PRONTO ANTEDIMENTO\",\"PRONTO SOCORRO ESPECIALIZADO\",\"PRONTO SOCORRO GERAL\",\"SECRETARIA DE SAUDE\",\"SERVICO DE ATENCAO DOMICILIAR ISOLADO(HOME CARE)\",\"UNIDADE DE ATENÇÃO À SAÚDE INDÍGENA\",\"UNIDADE DE ATENCAO EM REGIME RESIDENCIAL\",\"UNIDADE DE SERVICO DE APOIO DE DIAGNOSE E TERAPIA\",\"UNIDADE DE VIGILANCIA EM SAUDE\",\"UNIDADE MISTA\",\"UNIDADE MOVEL DE NIVEL PRE-HOSP-URGENCIA/EMERGENCI\",\"UNIDADE MOVEL TERRESTRE\",\"TELESAÚDE\",\"Total\",\"Município\",\"ACADEMIA DA SAÚDE\",\"CENTRAL DE REGUALAÇÃO\",\"CENTRAL DE REGULAÇÃO MÉDICA DAS URGÊNCIAS\",\"CENTRO DE APOIO A SAÚDE DA FAMÍLIA-CASF\",\"CENTRO DE ATENÇÃO HEMOTERÁPICA E/OU HEMATOLÓGICA\",\"CENTRO DE ATENÇÃO PSICOSSOCIAL-CAPS\",\"CENTRO DE PARTO NORMAL\",\"CENTRO DE SAUDE/UNIDADE BASICA DE SAUDE\",\"CENTRAL DE REGULACAO DE SERVICOS DE SAUDE\",\"CENTRAL DE NOTIF. CAPTAÇÃO E DISTR. ÓRGÃOS ESTADUA\",\"CLINICA ESPECIALIZADA/AMBULATORIO ESPECIALIZADO\",\"CONSULTORIO\",\"COOPERATIVA\",\"FARMACIA\",\"HOSPITAL ESPECIALIZADO\",\"HOSPITAL GERAL\",\"HOSPITAL DIA\",\"LABORATORIO CENTRAL DE SAUDE PUBLICA - LACEN\",\"LABORATORIO DE SAUDE PUBLICA\",\"POLICLINICA\",\"POSTO DE SAUDE\",\"PRONTO ANTEDIMENTO\",\"PRONTO SOCORRO ESPECIALIZADO\",\"PRONTO SOCORRO GERAL\",\"SECRETARIA DE SAUDE\",\"SERVICO DE ATENCAO DOMICILIAR ISOLADO(HOME CARE)\",\"UNIDADE DE ATENÇÃO À SAÚDE INDÍGENA\",\"UNIDADE DE ATENCAO EM REGIME RESIDENCIAL\",\"UNIDADE DE SERVICO DE APOIO DE DIAGNOSE E TERAPIA\",\"UNIDADE DE VIGILANCIA EM SAUDE\",\"UNIDADE MISTA\",\"UNIDADE MOVEL DE NIVEL PRE-HOSP-URGENCIA/EMERGENCI\",\"UNIDADE MOVEL TERRESTRE\",\"TELESAÚDE\",\"Total\",\"Município\",\"ACADEMIA DA SAÚDE\",\"CENTRAL DE REGUALAÇÃO\",\"CENTRAL DE REGULAÇÃO MÉDICA DAS URGÊNCIAS\",\"CENTRO DE APOIO A SAÚDE DA FAMÍLIA-CASF\",\"CENTRO DE ATENÇÃO HEMOTERÁPICA E/OU HEMATOLÓGICA\",\"CENTRO DE ATENÇÃO PSICOSSOCIAL-CAPS\",\"CENTRO DE PARTO NORMAL\",\"CENTRO DE SAUDE/UNIDADE BASICA DE SAUDE\",\"CENTRAL DE REGULACAO DE SERVICOS DE SAUDE\",\"CENTRAL DE NOTIF. CAPTAÇÃO E DISTR. ÓRGÃOS ESTADUA\",\"CLINICA ESPECIALIZADA/AMBULATORIO ESPECIALIZADO\",\"CONSULTORIO\",\"COOPERATIVA\",\"FARMACIA\",\"HOSPITAL ESPECIALIZADO\",\"HOSPITAL GERAL\",\"HOSPITAL DIA\",\"LABORATORIO CENTRAL DE SAUDE PUBLICA - LACEN\",\"LABORATORIO DE SAUDE PUBLICA\",\"POLICLINICA\",\"OFICINA ORTOPEDICA\",\"POSTO DE SAUDE\",\"PRONTO ANTEDIMENTO\",\"PRONTO SOCORRO ESPECIALIZADO\",\"PRONTO SOCORRO GERAL\",\"SECRETARIA DE SAUDE\",\"SERVICO DE ATENCAO DOMICILIAR ISOLADO(HOME CARE)\",\"UNIDADE DE ATENÇÃO À SAÚDE INDÍGENA\",\"UNIDADE DE ATENCAO EM REGIME RESIDENCIAL\",\"UNIDADE DE SERVICO DE APOIO DE DIAGNOSE E TERAPIA\",\"UNIDADE DE VIGILANCIA EM SAUDE\",\"UNIDADE MISTA\",\"UNIDADE MOVEL DE NIVEL PRE-HOSP-URGENCIA/EMERGENCI\",\"UNIDADE MOVEL TERRESTRE\",\"TELESAÚDE\",\"Total\",\"Município\",\"ACADEMIA DA SAÚDE\",\"CENTRAL DE REGUALAÇÃO\",\"CENTRAL DE REGULAÇÃO MÉDICA DAS URGÊNCIAS\",\"CENTRO DE APOIO A SAÚDE DA FAMÍLIA-CASF\",\"CENTRO DE ATENÇÃO HEMOTERÁPICA E/OU HEMATOLÓGICA\",\"CENTRO DE ATENÇÃO PSICOSSOCIAL-CAPS\",\"CENTRO DE PARTO NORMAL\",\"CENTRO DE SAUDE/UNIDADE BASICA DE SAUDE\",\"CENTRAL DE REGULACAO DE SERVICOS DE SAUDE\",\"CENTRAL DE NOTIF. CAPTAÇÃO E DISTR. ÓRGÃOS ESTADUA\",\"CLINICA ESPECIALIZADA/AMBULATORIO ESPECIALIZADO\",\"CONSULTORIO\",\"COOPERATIVA\",\"FARMACIA\",\"HOSPITAL ESPECIALIZADO\",\"HOSPITAL GERAL\",\"HOSPITAL DIA\",\"LABORATORIO CENTRAL DE SAUDE PUBLICA - LACEN\",\"LABORATORIO DE SAUDE PUBLICA\",\"POLICLINICA\",\"OFICINA ORTOPEDICA\",\"POSTO DE SAUDE\",\"PRONTO ANTEDIMENTO\",\"PRONTO SOCORRO ESPECIALIZADO\",\"PRONTO SOCORRO GERAL\",\"SECRETARIA DE SAUDE\",\"SERVICO DE ATENCAO DOMICILIAR ISOLADO(HOME CARE)\",\"UNIDADE DE ATENÇÃO À SAÚDE INDÍGENA\",\"UNIDADE DE ATENCAO EM REGIME RESIDENCIAL\",\"UNIDADE DE SERVICO DE APOIO DE DIAGNOSE E TERAPIA\",\"UNIDADE DE VIGILANCIA EM SAUDE\",\"UNIDADE MISTA\",\"UNIDADE MOVEL DE NIVEL PRE-HOSP-URGENCIA/EMERGENCI\",\"UNIDADE MOVEL TERRESTRE\",\"TELESAÚDE\",\"Total\",\"Município\",\"ACADEMIA DA SAÚDE\",\"CENTRAL DE REGUALAÇÃO\",\"CENTRAL DE REGULAÇÃO MÉDICA DAS URGÊNCIAS\",\"CENTRO DE APOIO A SAÚDE DA FAMÍLIA-CASF\",\"CENTRO DE ATENÇÃO HEMOTERÁPICA E/OU HEMATOLÓGICA\",\"CENTRO DE ATENÇÃO PSICOSSOCIAL-CAPS\",\"CENTRO DE PARTO NORMAL\",\"CENTRO DE SAUDE/UNIDADE BASICA DE SAUDE\",\"CENTRAL DE REGULACAO DE SERVICOS DE SAUDE\",\"CENTRAL DE NOTIF. CAPTAÇÃO E DISTR. ÓRGÃOS ESTADUA\",\"CLINICA ESPECIALIZADA/AMBULATORIO ESPECIALIZADO\",\"CONSULTORIO\",\"COOPERATIVA\",\"FARMACIA\",\"HOSPITAL ESPECIALIZADO\",\"HOSPITAL GERAL\",\"HOSPITAL DIA\",\"LABORATORIO CENTRAL DE SAUDE PUBLICA - LACEN\",\"LABORATORIO DE SAUDE PUBLICA\",\"POLICLINICA\",\"OFICINA ORTOPEDICA\",\"POSTO DE SAUDE\",\"PRONTO ANTEDIMENTO\",\"PRONTO SOCORRO ESPECIALIZADO\",\"PRONTO SOCORRO GERAL\",\"SECRETARIA DE SAUDE\",\"SERVICO DE ATENCAO DOMICILIAR ISOLADO(HOME CARE)\",\"UNIDADE DE ATENÇÃO À SAÚDE INDÍGENA\",\"UNIDADE DE ATENCAO EM REGIME RESIDENCIAL\",\"UNIDADE DE SERVICO DE APOIO DE DIAGNOSE E TERAPIA\",\"UNIDADE DE VIGILANCIA EM SAUDE\",\"UNIDADE MISTA\",\"UNIDADE MOVEL DE NIVEL PRE-HOSP-URGENCIA/EMERGENCI\",\"UNIDADE MOVEL TERRESTRE\",\"TELESAÚDE\",\"POLO PREV.DE DOENCAS E AGRAVOS E PROMOCAO DA SAUDE\",\"Total\",\"Município\",\"ACADEMIA DA SAÚDE\",\"CENTRAL DE REGUALAÇÃO\",\"CENTRAL DE REGULAÇÃO MÉDICA DAS URGÊNCIAS\",\"CENTRO DE APOIO A SAÚDE DA FAMÍLIA-CASF\",\"CENTRO DE ATENÇÃO HEMOTERÁPICA E/OU HEMATOLÓGICA\",\"CENTRO DE ATENÇÃO PSICOSSOCIAL-CAPS\",\"CENTRO DE PARTO NORMAL\",\"CENTRO DE SAUDE/UNIDADE BASICA DE SAUDE\",\"CENTRAL DE REGULACAO DE SERVICOS DE SAUDE\",\"CENTRAL DE NOTIF. CAPTAÇÃO E DISTR. ÓRGÃOS ESTADUA\",\"CLINICA ESPECIALIZADA/AMBULATORIO ESPECIALIZADO\",\"CONSULTORIO\",\"COOPERATIVA\",\"FARMACIA\",\"HOSPITAL ESPECIALIZADO\",\"HOSPITAL GERAL\",\"HOSPITAL DIA\",\"LABORATORIO CENTRAL DE SAUDE PUBLICA - LACEN\",\"LABORATORIO DE SAUDE PUBLICA\",\"POLICLINICA\",\"OFICINA ORTOPEDICA\",\"POSTO DE SAUDE\",\"PRONTO ANTEDIMENTO\",\"PRONTO SOCORRO ESPECIALIZADO\",\"PRONTO SOCORRO GERAL\",\"SECRETARIA DE SAUDE\",\"SERVICO DE ATENCAO DOMICILIAR ISOLADO(HOME CARE)\",\"UNIDADE DE ATENÇÃO À SAÚDE INDÍGENA\",\"UNIDADE DE ATENCAO EM REGIME RESIDENCIAL\",\"UNIDADE DE SERVICO DE APOIO DE DIAGNOSE E TERAPIA\",\"UNIDADE DE VIGILANCIA EM SAUDE\",\"UNIDADE MISTA\",\"UNIDADE MOVEL DE NIVEL PRE-HOSP-URGENCIA/EMERGENCI\",\"UNIDADE MOVEL TERRESTRE\",\"TELESAÚDE\",\"POLO PREV.DE DOENCAS E AGRAVOS E PROMOCAO DA SAUDE\",\"Total\",\"Município\",\"ACADEMIA DA SAÚDE\",\"CENTRAL DE REGUALAÇÃO\",\"CENTRAL DE REGULAÇÃO MÉDICA DAS URGÊNCIAS\",\"CENTRO DE APOIO A SAÚDE DA FAMÍLIA-CASF\",\"CENTRO DE ATENÇÃO HEMOTERÁPICA E/OU HEMATOLÓGICA\",\"CENTRO DE ATENÇÃO PSICOSSOCIAL-CAPS\",\"CENTRO DE PARTO NORMAL\",\"CENTRO DE SAUDE/UNIDADE BASICA DE SAUDE\",\"CENTRAL DE NOTIF. CAPTAÇÃO E DISTR. ÓRGÃOS ESTADUA\",\"CLINICA ESPECIALIZADA/AMBULATORIO ESPECIALIZADO\",\"CONSULTORIO\",\"COOPERATIVA\",\"FARMACIA\",\"HOSPITAL ESPECIALIZADO\",\"HOSPITAL GERAL\",\"HOSPITAL DIA\",\"LABORATORIO CENTRAL DE SAUDE PUBLICA - LACEN\",\"LABORATORIO DE SAUDE PUBLICA\",\"POLICLINICA\",\"OFICINA ORTOPEDICA\",\"POSTO DE SAUDE\",\"PRONTO ANTEDIMENTO\",\"PRONTO SOCORRO ESPECIALIZADO\",\"PRONTO SOCORRO GERAL\",\"SECRETARIA DE SAUDE\",\"SERVICO DE ATENCAO DOMICILIAR ISOLADO(HOME CARE)\",\"UNIDADE DE ATENÇÃO À SAÚDE INDÍGENA\",\"UNIDADE DE ATENCAO EM REGIME RESIDENCIAL\",\"UNIDADE DE SERVICO DE APOIO DE DIAGNOSE E TERAPIA\",\"UNIDADE DE VIGILANCIA EM SAUDE\",\"UNIDADE MISTA\",\"UNIDADE MOVEL DE NIVEL PRE-HOSP-URGENCIA/EMERGENCI\",\"UNIDADE MOVEL TERRESTRE\",\"TELESAÚDE\",\"POLO PREV.DE DOENCAS E AGRAVOS E PROMOCAO DA SAUDE\",\"Total\",\"Município\",\"ACADEMIA DA SAÚDE\",\"CENTRAL DE REGUALAÇÃO\",\"CENTRAL DE REGULAÇÃO MÉDICA DAS URGÊNCIAS\",\"CENTRO DE APOIO A SAÚDE DA FAMÍLIA-CASF\",\"CENTRO DE ATENÇÃO HEMOTERÁPICA E/OU HEMATOLÓGICA\",\"CENTRO DE ATENÇÃO PSICOSSOCIAL-CAPS\",\"CENTRO DE PARTO NORMAL\",\"CENTRO DE SAUDE/UNIDADE BASICA DE SAUDE\",\"CENTRAL DE NOTIF. CAPTAÇÃO E DISTR. ÓRGÃOS ESTADUA\",\"CLINICA ESPECIALIZADA/AMBULATORIO ESPECIALIZADO\",\"CONSULTORIO\",\"COOPERATIVA\",\"FARMACIA\",\"HOSPITAL ESPECIALIZADO\",\"HOSPITAL GERAL\",\"HOSPITAL DIA\",\"LABORATORIO CENTRAL DE SAUDE PUBLICA - LACEN\",\"LABORATORIO DE SAUDE PUBLICA\",\"POLICLINICA\",\"OFICINA ORTOPEDICA\",\"POSTO DE SAUDE\",\"PRONTO ANTEDIMENTO\",\"PRONTO SOCORRO ESPECIALIZADO\",\"PRONTO SOCORRO GERAL\",\"SECRETARIA DE SAUDE\",\"SERVICO DE ATENCAO DOMICILIAR ISOLADO(HOME CARE)\",\"UNIDADE DE ATENÇÃO À SAÚDE INDÍGENA\",\"UNIDADE DE ATENCAO EM REGIME RESIDENCIAL\",\"UNIDADE DE SERVICO DE APOIO DE DIAGNOSE E TERAPIA\",\"UNIDADE DE VIGILANCIA EM SAUDE\",\"UNIDADE MISTA\",\"UNIDADE MOVEL DE NIVEL PRE-HOSP-URGENCIA/EMERGENCI\",\"UNIDADE MOVEL TERRESTRE\",\"TELESAÚDE\",\"POLO PREV.DE DOENCAS E AGRAVOS E PROMOCAO DA SAUDE\",\"Total\",\"Município\",\"ACADEMIA DA SAÚDE\",\"CENTRAL DE REGUALAÇÃO\",\"CENTRAL DE REGULAÇÃO MÉDICA DAS URGÊNCIAS\",\"CENTRO DE APOIO A SAÚDE DA FAMÍLIA-CASF\",\"CENTRO DE ATENÇÃO HEMOTERÁPICA E/OU HEMATOLÓGICA\",\"CENTRO DE ATENÇÃO PSICOSSOCIAL-CAPS\",\"CENTRO DE PARTO NORMAL\",\"CENTRO DE SAUDE/UNIDADE BASICA DE SAUDE\",\"CENTRAL DE NOTIF. CAPTAÇÃO E DISTR. ÓRGÃOS ESTADUA\",\"CLINICA ESPECIALIZADA/AMBULATORIO ESPECIALIZADO\",\"CONSULTORIO\",\"COOPERATIVA\",\"FARMACIA\",\"HOSPITAL ESPECIALIZADO\",\"HOSPITAL GERAL\",\"HOSPITAL DIA\",\"LABORATORIO CENTRAL DE SAUDE PUBLICA - LACEN\",\"LABORATORIO DE SAUDE PUBLICA\",\"POLICLINICA\",\"OFICINA ORTOPEDICA\",\"POSTO DE SAUDE\",\"PRONTO ANTEDIMENTO\",\"PRONTO SOCORRO ESPECIALIZADO\",\"PRONTO SOCORRO GERAL\",\"SECRETARIA DE SAUDE\",\"SERVICO DE ATENCAO DOMICILIAR ISOLADO(HOME CARE)\",\"UNIDADE DE ATENÇÃO À SAÚDE INDÍGENA\",\"UNIDADE DE ATENCAO EM REGIME RESIDENCIAL\",\"UNIDADE DE SERVICO DE APOIO DE DIAGNOSE E TERAPIA\",\"UNIDADE DE VIGILANCIA EM SAUDE\",\"UNIDADE MISTA\",\"UNIDADE MOVEL DE NIVEL PRE-HOSP-URGENCIA/EMERGENCI\",\"UNIDADE MOVEL TERRESTRE\",\"TELESAÚDE\",\"POLO PREV.DE DOENCAS E AGRAVOS E PROMOCAO DA SAUDE\",\"Total\",\"Município\",\"ACADEMIA DA SAÚDE\",\"CENTRAL DE REGUALAÇÃO\",\"CENTRAL DE REGULAÇÃO MÉDICA DAS URGÊNCIAS\",\"CENTRO DE APOIO A SAÚDE DA FAMÍLIA-CASF\",\"CENTRO DE ATENÇÃO HEMOTERÁPICA E/OU HEMATOLÓGICA\",\"CENTRO DE ATENÇÃO PSICOSSOCIAL-CAPS\",\"CENTRO DE PARTO NORMAL\",\"CENTRO DE SAUDE/UNIDADE BASICA DE SAUDE\",\"CENTRAL DE REGULACAO DE SERVICOS DE SAUDE\",\"CENTRAL DE NOTIF. CAPTAÇÃO E DISTR. ÓRGÃOS ESTADUA\",\"CLINICA ESPECIALIZADA/AMBULATORIO ESPECIALIZADO\",\"CONSULTORIO\",\"COOPERATIVA\",\"FARMACIA\",\"HOSPITAL ESPECIALIZADO\",\"HOSPITAL GERAL\",\"HOSPITAL DIA\",\"LABORATORIO CENTRAL DE SAUDE PUBLICA - LACEN\",\"LABORATORIO DE SAUDE PUBLICA\",\"POLICLINICA\",\"OFICINA ORTOPEDICA\",\"POSTO DE SAUDE\",\"PRONTO ANTEDIMENTO\",\"PRONTO SOCORRO ESPECIALIZADO\",\"PRONTO SOCORRO GERAL\",\"SECRETARIA DE SAUDE\",\"SERVICO DE ATENCAO DOMICILIAR ISOLADO(HOME CARE)\",\"UNIDADE DE ATENÇÃO À SAÚDE INDÍGENA\",\"UNIDADE DE ATENCAO EM REGIME RESIDENCIAL\",\"UNIDADE DE SERVICO DE APOIO DE DIAGNOSE E TERAPIA\",\"UNIDADE DE VIGILANCIA EM SAUDE\",\"UNIDADE MISTA\",\"UNIDADE MOVEL DE NIVEL PRE-HOSP-URGENCIA/EMERGENCI\",\"UNIDADE MOVEL TERRESTRE\",\"TELESAÚDE\",\"POLO PREV.DE DOENCAS E AGRAVOS E PROMOCAO DA SAUDE\",\"Total\",\"Município\",\"ACADEMIA DA SAÚDE\",\"CENTRAL DE REGUALAÇÃO\",\"CENTRAL DE REGULAÇÃO MÉDICA DAS URGÊNCIAS\",\"CENTRO DE APOIO A SAÚDE DA FAMÍLIA-CASF\",\"CENTRO DE ATENÇÃO HEMOTERÁPICA E/OU HEMATOLÓGICA\",\"CENTRO DE ATENÇÃO PSICOSSOCIAL-CAPS\",\"CENTRO DE PARTO NORMAL\",\"CENTRO DE SAUDE/UNIDADE BASICA DE SAUDE\",\"CENTRAL DE REGULACAO DE SERVICOS DE SAUDE\",\"CENTRAL DE NOTIF. CAPTAÇÃO E DISTR. ÓRGÃOS ESTADUA\",\"CLINICA ESPECIALIZADA/AMBULATORIO ESPECIALIZADO\",\"CONSULTORIO\",\"COOPERATIVA\",\"FARMACIA\",\"HOSPITAL ESPECIALIZADO\",\"HOSPITAL GERAL\",\"HOSPITAL DIA\",\"LABORATORIO CENTRAL DE SAUDE PUBLICA - LACEN\",\"LABORATORIO DE SAUDE PUBLICA\",\"POLICLINICA\",\"OFICINA ORTOPEDICA\",\"POSTO DE SAUDE\",\"PRONTO ANTEDIMENTO\",\"PRONTO SOCORRO ESPECIALIZADO\",\"PRONTO SOCORRO GERAL\",\"SECRETARIA DE SAUDE\",\"SERVICO DE ATENCAO DOMICILIAR ISOLADO(HOME CARE)\",\"UNIDADE DE ATENÇÃO À SAÚDE INDÍGENA\",\"UNIDADE DE ATENCAO EM REGIME RESIDENCIAL\",\"UNIDADE DE SERVICO DE APOIO DE DIAGNOSE E TERAPIA\",\"UNIDADE DE VIGILANCIA EM SAUDE\",\"UNIDADE MISTA\",\"UNIDADE MOVEL DE NIVEL PRE-HOSP-URGENCIA/EMERGENCI\",\"UNIDADE MOVEL TERRESTRE\",\"TELESAÚDE\",\"POLO PREV.DE DOENCAS E AGRAVOS E PROMOCAO DA SAUDE\",\"Total\"]\n",
        "h = list(dict.fromkeys(h))\n",
        "dataSUS_Est_Tip_DEC2005_DEC2020 = pd.DataFrame(columns=h)\n",
        "dataSUS_Est_Tip_DEC2005_DEC2020['data_ref'] = ''"
      ],
      "execution_count": null,
      "outputs": []
    },
    {
      "cell_type": "code",
      "metadata": {
        "id": "ESPe4lGDPP4S"
      },
      "source": [
        "#Dados dataSUS (.txt) para tipos de estabelecimentos\n",
        "ref = 2005\n",
        "for x in range(31):\n",
        "  temp = pd.read_csv(f'{path}/Batch_Est_Tip/Est_Tip{x+1}.txt', delimiter = ';')\n",
        "  temp['data_ref'] = ref + 0.5\n",
        "  temp[list(dataSUS_Est_Tip_DEC2005_DEC2020.drop(temp.columns,axis=1).columns)] = ''\n",
        "  dataSUS_Est_Tip_DEC2005_DEC2020 = dataSUS_Est_Tip_DEC2005_DEC2020.append(temp)\n",
        "  ref = ref + 0.5\n",
        "\n",
        "dataSUS_Est_Tip_DEC2005_DEC2020 = mapping(dataSUS_Est_Tip_DEC2005_DEC2020)\n",
        "dataSUS_Est_Tip_DEC2005_DEC2020 = dataSUS_Est_Tip_DEC2005_DEC2020.reset_index().drop(['index'],axis=1)\n",
        "dataSUS_Est_Tip_DEC2005_DEC2020 = dataSUS_Est_Tip_DEC2005_DEC2020.replace(to_replace='-',value=0)\n",
        "dataSUS_Est_Tip_DEC2005_DEC2020 = dataSUS_Est_Tip_DEC2005_DEC2020.replace(to_replace='',value=0)\n",
        "dataSUS_Est_Tip_DEC2005_DEC2020['Estabelecimentos_Total'] = dataSUS_Est_Tip_DEC2005_DEC2020['Total'].replace(to_replace='.0',value='',regex=True).astype(int)\n",
        "Psi = ['CENTRO DE SAUDE/UNIDADE BASICA DE SAUDE','CONSULTORIO','HOSPITAL GERAL','HOSPITAL DIA','POLICLINICA', 'POSTO DE SAUDE','PRONTO SOCORRO GERAL','UNIDADE DE SERVICO DE APOIO DE DIAGNOSE E TERAPIA','UNIDADE MISTA','UNIDADE MOVEL DE NIVEL PRE-HOSP-URGENCIA/EMERGENCI','UNIDADE MOVEL TERRESTRE','PRONTO SOCORRO DE HOSPITAL GERAL (ANTIGO)','CENTRO DE APOIO A SAÚDE DA FAMÍLIA-CASF','CENTRO DE ATENÇÃO PSICOSSOCIAL-CAPS','PRONTO ANTEDIMENTO','SERVICO DE ATENCAO DOMICILIAR ISOLADO(HOME CARE)','UNIDADE DE ATENÇÃO À SAÚDE INDÍGENA','UNIDADE DE ATENCAO EM REGIME RESIDENCIAL', 'TELESAÚDE']\n",
        "Atendimento = ['CENTRO DE SAUDE/UNIDADE BASICA DE SAUDE','CLINICA ESPECIALIZADA/AMBULATORIO ESPECIALIZADO','CONSULTORIO','COOPERATIVA','HOSPITAL ESPECIALIZADO','HOSPITAL GERAL','HOSPITAL DIA','POLICLINICA', 'POSTO DE SAUDE','PRONTO SOCORRO ESPECIALIZADO','PRONTO SOCORRO GERAL','UNIDADE DE SERVICO DE APOIO DE DIAGNOSE E TERAPIA','UNIDADE MISTA','UNIDADE MOVEL DE NIVEL PRE-HOSP-URGENCIA/EMERGENCI','UNIDADE MOVEL TERRESTRE','PRONTO SOCORRO DE HOSPITAL GERAL (ANTIGO)','CENTRO DE APOIO A SAÚDE DA FAMÍLIA-CASF','CENTRO DE ATENÇÃO HEMOTERÁPICA E/OU HEMATOLÓGICA','CENTRO DE ATENÇÃO PSICOSSOCIAL-CAPS', 'CENTRO DE PARTO NORMAL','PRONTO ANTEDIMENTO','SERVICO DE ATENCAO DOMICILIAR ISOLADO(HOME CARE)','UNIDADE DE ATENÇÃO À SAÚDE INDÍGENA','UNIDADE DE ATENCAO EM REGIME RESIDENCIAL', 'TELESAÚDE','UNIDADE MOVEL FLUVIAL']\n",
        "dataSUS_Est_Tip_DEC2005_DEC2020['Estabelecimentos_Psi'] = dataSUS_Est_Tip_DEC2005_DEC2020[Psi].astype(float).sum(axis=1)\n",
        "dataSUS_Est_Tip_DEC2005_DEC2020['Estabelecimentos_Atend'] = dataSUS_Est_Tip_DEC2005_DEC2020[Atendimento].astype(float).sum(axis=1)\n",
        "dataSUS_Est_Tip_DEC2005_DEC2020 = dataSUS_Est_Tip_DEC2005_DEC2020.filter(['Município','Code','Cidades','Estabelecimentos_Psi','Estabelecimentos_Atend','Estabelecimentos_Total','data_ref'])\n",
        "dataSUS_Est_Tip_DEC2005_DEC2020['data_ref'] = np.floor(dataSUS_Est_Tip_DEC2005_DEC2020['data_ref'])\n",
        "dataSUS_Est_Tip_DEC2005_DEC2020 = dataSUS_Est_Tip_DEC2005_DEC2020.groupby(['Município','Code','Cidades','data_ref']).agg('mean').reset_index()\n",
        "dataSUS_Est_Tip_DEC2005_DEC2020['data_ref'] = dataSUS_Est_Tip_DEC2005_DEC2020['data_ref'].astype(int)"
      ],
      "execution_count": null,
      "outputs": []
    },
    {
      "cell_type": "code",
      "metadata": {
        "id": "HilOZqqmZBBm"
      },
      "source": [
        "#header consolidado para dados de jurisdição de estabelecimentos\n",
        "h2 = [\"Município\",\"101-5 Órgão Público do Poder Executivo Federal\",\"102-3 Órgão Público do Poder Executivo Estadual ou do Distrito Federal\",\"103-1 Órgão Público do Poder Executivo Municipal\",\"110-4 Autarquia Federal\",\"111-2 Autarquia Estadual ou do Distrito Federal\",\"112-0 Autarquia Municipal\",\"113-9 Fundação Pública de Direito Público Federal\",\"114-7 Fundação Pública de Direito Público Estadual ou do Distrito Federal\",\"115-5 Fundação Pública de Direito Público Municipal\",\"118-0 Órgão Público Autônomo Municipal\",\"120-1 Fundo Público\",\"121-0 Consórcio Público de Direito Público (Associação Pública)\",\"201-1 Empresa Pública\",\"203-8 Sociedade de Economia Mista\",\"204-6 Sociedade Anônima Aberta\",\"205-4 Sociedade Anônima Fechada\",\"206-2 Sociedade Empresária Limitada\",\"213-5 Empresário (Individual)\",\"214-3 Cooperativa\",\"215-1 Consórcio de Sociedades\",\"221-6 Empresa Domiciliada no Exterior\",\"223-2 Sociedade Simples Pura\",\"224-0 Sociedade Simples Limitada\",\"225-9 Sociedade Simples em Nome Coletivo\",\"230-5 Empresa Individual de Responsabilidade Limitada (de Natureza Empresária)\",\"231-3 Empresa Individual de Responsabilidade Limitada (de Natureza Simples)\",\"306-9 Fundação Privada\",\"307-7 Serviço Social Autônomo\",\"308-5 Condomínio Edilício\",\"313-1 Entidade Sindical\",\"399-9 Associação Privada\",\"401-4 Empresa Individual Imobiliária\",\"Total\",\"Município\",\"101-5 Órgão Público do Poder Executivo Federal\",\"102-3 Órgão Público do Poder Executivo Estadual ou do Distrito Federal\",\"103-1 Órgão Público do Poder Executivo Municipal\",\"110-4 Autarquia Federal\",\"111-2 Autarquia Estadual ou do Distrito Federal\",\"112-0 Autarquia Municipal\",\"113-9 Fundação Pública de Direito Público Federal\",\"114-7 Fundação Pública de Direito Público Estadual ou do Distrito Federal\",\"115-5 Fundação Pública de Direito Público Municipal\",\"118-0 Órgão Público Autônomo Municipal\",\"120-1 Fundo Público\",\"121-0 Consórcio Público de Direito Público (Associação Pública)\",\"201-1 Empresa Pública\",\"203-8 Sociedade de Economia Mista\",\"204-6 Sociedade Anônima Aberta\",\"205-4 Sociedade Anônima Fechada\",\"206-2 Sociedade Empresária Limitada\",\"213-5 Empresário (Individual)\",\"214-3 Cooperativa\",\"215-1 Consórcio de Sociedades\",\"221-6 Empresa Domiciliada no Exterior\",\"223-2 Sociedade Simples Pura\",\"224-0 Sociedade Simples Limitada\",\"225-9 Sociedade Simples em Nome Coletivo\",\"230-5 Empresa Individual de Responsabilidade Limitada (de Natureza Empresária)\",\"231-3 Empresa Individual de Responsabilidade Limitada (de Natureza Simples)\",\"306-9 Fundação Privada\",\"307-7 Serviço Social Autônomo\",\"308-5 Condomínio Edilício\",\"313-1 Entidade Sindical\",\"399-9 Associação Privada\",\"401-4 Empresa Individual Imobiliária\",\"Total\",\"Município\",\"101-5 Órgão Público do Poder Executivo Federal\",\"102-3 Órgão Público do Poder Executivo Estadual ou do Distrito Federal\",\"103-1 Órgão Público do Poder Executivo Municipal\",\"110-4 Autarquia Federal\",\"111-2 Autarquia Estadual ou do Distrito Federal\",\"112-0 Autarquia Municipal\",\"113-9 Fundação Pública de Direito Público Federal\",\"114-7 Fundação Pública de Direito Público Estadual ou do Distrito Federal\",\"115-5 Fundação Pública de Direito Público Municipal\",\"118-0 Órgão Público Autônomo Municipal\",\"120-1 Fundo Público\",\"121-0 Consórcio Público de Direito Público (Associação Pública)\",\"201-1 Empresa Pública\",\"203-8 Sociedade de Economia Mista\",\"204-6 Sociedade Anônima Aberta\",\"205-4 Sociedade Anônima Fechada\",\"206-2 Sociedade Empresária Limitada\",\"213-5 Empresário (Individual)\",\"214-3 Cooperativa\",\"215-1 Consórcio de Sociedades\",\"221-6 Empresa Domiciliada no Exterior\",\"223-2 Sociedade Simples Pura\",\"224-0 Sociedade Simples Limitada\",\"225-9 Sociedade Simples em Nome Coletivo\",\"230-5 Empresa Individual de Responsabilidade Limitada (de Natureza Empresária)\",\"231-3 Empresa Individual de Responsabilidade Limitada (de Natureza Simples)\",\"306-9 Fundação Privada\",\"307-7 Serviço Social Autônomo\",\"308-5 Condomínio Edilício\",\"313-1 Entidade Sindical\",\"399-9 Associação Privada\",\"401-4 Empresa Individual Imobiliária\",\"Total\",\"Município\",\"101-5 Órgão Público do Poder Executivo Federal\",\"102-3 Órgão Público do Poder Executivo Estadual ou do Distrito Federal\",\"103-1 Órgão Público do Poder Executivo Municipal\",\"110-4 Autarquia Federal\",\"111-2 Autarquia Estadual ou do Distrito Federal\",\"112-0 Autarquia Municipal\",\"113-9 Fundação Pública de Direito Público Federal\",\"114-7 Fundação Pública de Direito Público Estadual ou do Distrito Federal\",\"115-5 Fundação Pública de Direito Público Municipal\",\"118-0 Órgão Público Autônomo Municipal\",\"120-1 Fundo Público\",\"121-0 Consórcio Público de Direito Público (Associação Pública)\",\"201-1 Empresa Pública\",\"203-8 Sociedade de Economia Mista\",\"204-6 Sociedade Anônima Aberta\",\"205-4 Sociedade Anônima Fechada\",\"206-2 Sociedade Empresária Limitada\",\"213-5 Empresário (Individual)\",\"214-3 Cooperativa\",\"215-1 Consórcio de Sociedades\",\"221-6 Empresa Domiciliada no Exterior\",\"223-2 Sociedade Simples Pura\",\"224-0 Sociedade Simples Limitada\",\"225-9 Sociedade Simples em Nome Coletivo\",\"230-5 Empresa Individual de Responsabilidade Limitada (de Natureza Empresária)\",\"231-3 Empresa Individual de Responsabilidade Limitada (de Natureza Simples)\",\"306-9 Fundação Privada\",\"307-7 Serviço Social Autônomo\",\"308-5 Condomínio Edilício\",\"313-1 Entidade Sindical\",\"399-9 Associação Privada\",\"401-4 Empresa Individual Imobiliária\",\"Total\",\"Município\",\"101-5 Órgão Público do Poder Executivo Federal\",\"102-3 Órgão Público do Poder Executivo Estadual ou do Distrito Federal\",\"103-1 Órgão Público do Poder Executivo Municipal\",\"110-4 Autarquia Federal\",\"111-2 Autarquia Estadual ou do Distrito Federal\",\"112-0 Autarquia Municipal\",\"113-9 Fundação Pública de Direito Público Federal\",\"114-7 Fundação Pública de Direito Público Estadual ou do Distrito Federal\",\"115-5 Fundação Pública de Direito Público Municipal\",\"120-1 Fundo Público\",\"121-0 Consórcio Público de Direito Público (Associação Pública)\",\"201-1 Empresa Pública\",\"203-8 Sociedade de Economia Mista\",\"204-6 Sociedade Anônima Aberta\",\"205-4 Sociedade Anônima Fechada\",\"206-2 Sociedade Empresária Limitada\",\"213-5 Empresário (Individual)\",\"214-3 Cooperativa\",\"215-1 Consórcio de Sociedades\",\"221-6 Empresa Domiciliada no Exterior\",\"223-2 Sociedade Simples Pura\",\"224-0 Sociedade Simples Limitada\",\"225-9 Sociedade Simples em Nome Coletivo\",\"230-5 Empresa Individual de Responsabilidade Limitada (de Natureza Empresária)\",\"231-3 Empresa Individual de Responsabilidade Limitada (de Natureza Simples)\",\"306-9 Fundação Privada\",\"307-7 Serviço Social Autônomo\",\"308-5 Condomínio Edilício\",\"313-1 Entidade Sindical\",\"399-9 Associação Privada\",\"401-4 Empresa Individual Imobiliária\",\"Total\",\"Município\",\"101-5 Órgão Público do Poder Executivo Federal\",\"102-3 Órgão Público do Poder Executivo Estadual ou do Distrito Federal\",\"103-1 Órgão Público do Poder Executivo Municipal\",\"110-4 Autarquia Federal\",\"111-2 Autarquia Estadual ou do Distrito Federal\",\"112-0 Autarquia Municipal\",\"113-9 Fundação Pública de Direito Público Federal\",\"114-7 Fundação Pública de Direito Público Estadual ou do Distrito Federal\",\"115-5 Fundação Pública de Direito Público Municipal\",\"120-1 Fundo Público\",\"121-0 Consórcio Público de Direito Público (Associação Pública)\",\"122-8 Consórcio Público de Direito Privado\",\"201-1 Empresa Pública\",\"203-8 Sociedade de Economia Mista\",\"204-6 Sociedade Anônima Aberta\",\"205-4 Sociedade Anônima Fechada\",\"206-2 Sociedade Empresária Limitada\",\"213-5 Empresário (Individual)\",\"214-3 Cooperativa\",\"215-1 Consórcio de Sociedades\",\"221-6 Empresa Domiciliada no Exterior\",\"223-2 Sociedade Simples Pura\",\"224-0 Sociedade Simples Limitada\",\"225-9 Sociedade Simples em Nome Coletivo\",\"230-5 Empresa Individual de Responsabilidade Limitada (de Natureza Empresária)\",\"231-3 Empresa Individual de Responsabilidade Limitada (de Natureza Simples)\",\"306-9 Fundação Privada\",\"307-7 Serviço Social Autônomo\",\"308-5 Condomínio Edilício\",\"313-1 Entidade Sindical\",\"399-9 Associação Privada\",\"401-4 Empresa Individual Imobiliária\",\"Total\",\"Município\",\"101-5 Órgão Público do Poder Executivo Federal\",\"102-3 Órgão Público do Poder Executivo Estadual ou do Distrito Federal\",\"103-1 Órgão Público do Poder Executivo Municipal\",\"110-4 Autarquia Federal\",\"111-2 Autarquia Estadual ou do Distrito Federal\",\"112-0 Autarquia Municipal\",\"113-9 Fundação Pública de Direito Público Federal\",\"114-7 Fundação Pública de Direito Público Estadual ou do Distrito Federal\",\"115-5 Fundação Pública de Direito Público Municipal\",\"120-1 Fundo Público\",\"121-0 Consórcio Público de Direito Público (Associação Pública)\",\"122-8 Consórcio Público de Direito Privado\",\"201-1 Empresa Pública\",\"203-8 Sociedade de Economia Mista\",\"204-6 Sociedade Anônima Aberta\",\"205-4 Sociedade Anônima Fechada\",\"206-2 Sociedade Empresária Limitada\",\"213-5 Empresário (Individual)\",\"214-3 Cooperativa\",\"215-1 Consórcio de Sociedades\",\"221-6 Empresa Domiciliada no Exterior\",\"223-2 Sociedade Simples Pura\",\"224-0 Sociedade Simples Limitada\",\"225-9 Sociedade Simples em Nome Coletivo\",\"230-5 Empresa Individual de Responsabilidade Limitada (de Natureza Empresária)\",\"231-3 Empresa Individual de Responsabilidade Limitada (de Natureza Simples)\",\"306-9 Fundação Privada\",\"307-7 Serviço Social Autônomo\",\"308-5 Condomínio Edilício\",\"313-1 Entidade Sindical\",\"399-9 Associação Privada\",\"401-4 Empresa Individual Imobiliária\",\"Total\",\"Município\",\"101-5 Órgão Público do Poder Executivo Federal\",\"102-3 Órgão Público do Poder Executivo Estadual ou do Distrito Federal\",\"103-1 Órgão Público do Poder Executivo Municipal\",\"110-4 Autarquia Federal\",\"111-2 Autarquia Estadual ou do Distrito Federal\",\"112-0 Autarquia Municipal\",\"113-9 Fundação Pública de Direito Público Federal\",\"114-7 Fundação Pública de Direito Público Estadual ou do Distrito Federal\",\"115-5 Fundação Pública de Direito Público Municipal\",\"120-1 Fundo Público\",\"121-0 Consórcio Público de Direito Público (Associação Pública)\",\"122-8 Consórcio Público de Direito Privado\",\"124-4 Município\",\"127-9 Fundação Pública de Direito Privado Municipal\",\"201-1 Empresa Pública\",\"203-8 Sociedade de Economia Mista\",\"204-6 Sociedade Anônima Aberta\",\"205-4 Sociedade Anônima Fechada\",\"206-2 Sociedade Empresária Limitada\",\"213-5 Empresário (Individual)\",\"214-3 Cooperativa\",\"215-1 Consórcio de Sociedades\",\"221-6 Empresa Domiciliada no Exterior\",\"223-2 Sociedade Simples Pura\",\"224-0 Sociedade Simples Limitada\",\"225-9 Sociedade Simples em Nome Coletivo\",\"230-5 Empresa Individual de Responsabilidade Limitada (de Natureza Empresária)\",\"231-3 Empresa Individual de Responsabilidade Limitada (de Natureza Simples)\",\"306-9 Fundação Privada\",\"307-7 Serviço Social Autônomo\",\"308-5 Condomínio Edilício\",\"313-1 Entidade Sindical\",\"322-0 Organização Religiosa\",\"399-9 Associação Privada\",\"401-4 Empresa Individual Imobiliária\",\"Total\",\"Município\",\"101-5 Órgão Público do Poder Executivo Federal\",\"102-3 Órgão Público do Poder Executivo Estadual ou do Distrito Federal\",\"103-1 Órgão Público do Poder Executivo Municipal\",\"110-4 Autarquia Federal\",\"111-2 Autarquia Estadual ou do Distrito Federal\",\"112-0 Autarquia Municipal\",\"113-9 Fundação Pública de Direito Público Federal\",\"114-7 Fundação Pública de Direito Público Estadual ou do Distrito Federal\",\"115-5 Fundação Pública de Direito Público Municipal\",\"120-1 Fundo Público\",\"121-0 Consórcio Público de Direito Público (Associação Pública)\",\"122-8 Consórcio Público de Direito Privado\",\"124-4 Município\",\"127-9 Fundação Pública de Direito Privado Municipal\",\"201-1 Empresa Pública\",\"203-8 Sociedade de Economia Mista\",\"204-6 Sociedade Anônima Aberta\",\"205-4 Sociedade Anônima Fechada\",\"206-2 Sociedade Empresária Limitada\",\"213-5 Empresário (Individual)\",\"214-3 Cooperativa\",\"215-1 Consórcio de Sociedades\",\"221-6 Empresa Domiciliada no Exterior\",\"223-2 Sociedade Simples Pura\",\"224-0 Sociedade Simples Limitada\",\"225-9 Sociedade Simples em Nome Coletivo\",\"230-5 Empresa Individual de Responsabilidade Limitada (de Natureza Empresária)\",\"231-3 Empresa Individual de Responsabilidade Limitada (de Natureza Simples)\",\"306-9 Fundação Privada\",\"307-7 Serviço Social Autônomo\",\"308-5 Condomínio Edilício\",\"313-1 Entidade Sindical\",\"322-0 Organização Religiosa\",\"399-9 Associação Privada\",\"401-4 Empresa Individual Imobiliária\",\"Total\",\"Município\",\"101-5 Órgão Público do Poder Executivo Federal\",\"102-3 Órgão Público do Poder Executivo Estadual ou do Distrito Federal\",\"103-1 Órgão Público do Poder Executivo Municipal\",\"105-8 Órgão Público do Poder Legislativo Estadual ou do Distrito Federal\",\"110-4 Autarquia Federal\",\"111-2 Autarquia Estadual ou do Distrito Federal\",\"112-0 Autarquia Municipal\",\"113-9 Fundação Pública de Direito Público Federal\",\"114-7 Fundação Pública de Direito Público Estadual ou do Distrito Federal\",\"115-5 Fundação Pública de Direito Público Municipal\",\"121-0 Consórcio Público de Direito Público (Associação Pública)\",\"122-8 Consórcio Público de Direito Privado\",\"124-4 Município\",\"127-9 Fundação Pública de Direito Privado Municipal\",\"201-1 Empresa Pública\",\"203-8 Sociedade de Economia Mista\",\"204-6 Sociedade Anônima Aberta\",\"205-4 Sociedade Anônima Fechada\",\"206-2 Sociedade Empresária Limitada\",\"213-5 Empresário (Individual)\",\"214-3 Cooperativa\",\"215-1 Consórcio de Sociedades\",\"221-6 Empresa Domiciliada no Exterior\",\"223-2 Sociedade Simples Pura\",\"224-0 Sociedade Simples Limitada\",\"225-9 Sociedade Simples em Nome Coletivo\",\"230-5 Empresa Individual de Responsabilidade Limitada (de Natureza Empresária)\",\"231-3 Empresa Individual de Responsabilidade Limitada (de Natureza Simples)\",\"306-9 Fundação Privada\",\"307-7 Serviço Social Autônomo\",\"308-5 Condomínio Edilício\",\"313-1 Entidade Sindical\",\"322-0 Organização Religiosa\",\"399-9 Associação Privada\",\"401-4 Empresa Individual Imobiliária\",\"Total\",\"Município\",\"101-5 Órgão Público do Poder Executivo Federal\",\"102-3 Órgão Público do Poder Executivo Estadual ou do Distrito Federal\",\"103-1 Órgão Público do Poder Executivo Municipal\",\"105-8 Órgão Público do Poder Legislativo Estadual ou do Distrito Federal\",\"110-4 Autarquia Federal\",\"111-2 Autarquia Estadual ou do Distrito Federal\",\"112-0 Autarquia Municipal\",\"113-9 Fundação Pública de Direito Público Federal\",\"114-7 Fundação Pública de Direito Público Estadual ou do Distrito Federal\",\"115-5 Fundação Pública de Direito Público Municipal\",\"121-0 Consórcio Público de Direito Público (Associação Pública)\",\"122-8 Consórcio Público de Direito Privado\",\"124-4 Município\",\"127-9 Fundação Pública de Direito Privado Municipal\",\"201-1 Empresa Pública\",\"203-8 Sociedade de Economia Mista\",\"204-6 Sociedade Anônima Aberta\",\"205-4 Sociedade Anônima Fechada\",\"206-2 Sociedade Empresária Limitada\",\"213-5 Empresário (Individual)\",\"214-3 Cooperativa\",\"215-1 Consórcio de Sociedades\",\"221-6 Empresa Domiciliada no Exterior\",\"223-2 Sociedade Simples Pura\",\"224-0 Sociedade Simples Limitada\",\"225-9 Sociedade Simples em Nome Coletivo\",\"230-5 Empresa Individual de Responsabilidade Limitada (de Natureza Empresária)\",\"231-3 Empresa Individual de Responsabilidade Limitada (de Natureza Simples)\",\"306-9 Fundação Privada\",\"307-7 Serviço Social Autônomo\",\"308-5 Condomínio Edilício\",\"313-1 Entidade Sindical\",\"322-0 Organização Religiosa\",\"399-9 Associação Privada\",\"401-4 Empresa Individual Imobiliária\",\"Total\",\"Município\",\"101-5 Órgão Público do Poder Executivo Federal\",\"102-3 Órgão Público do Poder Executivo Estadual ou do Distrito Federal\",\"103-1 Órgão Público do Poder Executivo Municipal\",\"105-8 Órgão Público do Poder Legislativo Estadual ou do Distrito Federal\",\"110-4 Autarquia Federal\",\"111-2 Autarquia Estadual ou do Distrito Federal\",\"112-0 Autarquia Municipal\",\"113-9 Fundação Pública de Direito Público Federal\",\"114-7 Fundação Pública de Direito Público Estadual ou do Distrito Federal\",\"115-5 Fundação Pública de Direito Público Municipal\",\"121-0 Consórcio Público de Direito Público (Associação Pública)\",\"122-8 Consórcio Público de Direito Privado\",\"124-4 Município\",\"127-9 Fundação Pública de Direito Privado Municipal\",\"201-1 Empresa Pública\",\"203-8 Sociedade de Economia Mista\",\"204-6 Sociedade Anônima Aberta\",\"205-4 Sociedade Anônima Fechada\",\"206-2 Sociedade Empresária Limitada\",\"213-5 Empresário (Individual)\",\"214-3 Cooperativa\",\"215-1 Consórcio de Sociedades\",\"221-6 Empresa Domiciliada no Exterior\",\"223-2 Sociedade Simples Pura\",\"224-0 Sociedade Simples Limitada\",\"225-9 Sociedade Simples em Nome Coletivo\",\"230-5 Empresa Individual de Responsabilidade Limitada (de Natureza Empresária)\",\"231-3 Empresa Individual de Responsabilidade Limitada (de Natureza Simples)\",\"306-9 Fundação Privada\",\"307-7 Serviço Social Autônomo\",\"308-5 Condomínio Edilício\",\"313-1 Entidade Sindical\",\"322-0 Organização Religiosa\",\"399-9 Associação Privada\",\"401-4 Empresa Individual Imobiliária\",\"Total\",\"Município\",\"101-5 Órgão Público do Poder Executivo Federal\",\"102-3 Órgão Público do Poder Executivo Estadual ou do Distrito Federal\",\"103-1 Órgão Público do Poder Executivo Municipal\",\"105-8 Órgão Público do Poder Legislativo Estadual ou do Distrito Federal\",\"110-4 Autarquia Federal\",\"111-2 Autarquia Estadual ou do Distrito Federal\",\"112-0 Autarquia Municipal\",\"113-9 Fundação Pública de Direito Público Federal\",\"114-7 Fundação Pública de Direito Público Estadual ou do Distrito Federal\",\"115-5 Fundação Pública de Direito Público Municipal\",\"121-0 Consórcio Público de Direito Público (Associação Pública)\",\"122-8 Consórcio Público de Direito Privado\",\"124-4 Município\",\"127-9 Fundação Pública de Direito Privado Municipal\",\"201-1 Empresa Pública\",\"203-8 Sociedade de Economia Mista\",\"204-6 Sociedade Anônima Aberta\",\"205-4 Sociedade Anônima Fechada\",\"206-2 Sociedade Empresária Limitada\",\"213-5 Empresário (Individual)\",\"214-3 Cooperativa\",\"215-1 Consórcio de Sociedades\",\"221-6 Empresa Domiciliada no Exterior\",\"223-2 Sociedade Simples Pura\",\"224-0 Sociedade Simples Limitada\",\"225-9 Sociedade Simples em Nome Coletivo\",\"230-5 Empresa Individual de Responsabilidade Limitada (de Natureza Empresária)\",\"231-3 Empresa Individual de Responsabilidade Limitada (de Natureza Simples)\",\"306-9 Fundação Privada\",\"307-7 Serviço Social Autônomo\",\"308-5 Condomínio Edilício\",\"313-1 Entidade Sindical\",\"322-0 Organização Religiosa\",\"399-9 Associação Privada\",\"401-4 Empresa Individual Imobiliária\",\"Total\",\"Município\",\"101-5 Órgão Público do Poder Executivo Federal\",\"102-3 Órgão Público do Poder Executivo Estadual ou do Distrito Federal\",\"103-1 Órgão Público do Poder Executivo Municipal\",\"105-8 Órgão Público do Poder Legislativo Estadual ou do Distrito Federal\",\"110-4 Autarquia Federal\",\"111-2 Autarquia Estadual ou do Distrito Federal\",\"112-0 Autarquia Municipal\",\"113-9 Fundação Pública de Direito Público Federal\",\"114-7 Fundação Pública de Direito Público Estadual ou do Distrito Federal\",\"115-5 Fundação Pública de Direito Público Municipal\",\"121-0 Consórcio Público de Direito Público (Associação Pública)\",\"124-4 Município\",\"127-9 Fundação Pública de Direito Privado Municipal\",\"201-1 Empresa Pública\",\"203-8 Sociedade de Economia Mista\",\"204-6 Sociedade Anônima Aberta\",\"205-4 Sociedade Anônima Fechada\",\"206-2 Sociedade Empresária Limitada\",\"212-7 Sociedade em Conta de Participação\",\"213-5 Empresário (Individual)\",\"214-3 Cooperativa\",\"215-1 Consórcio de Sociedades\",\"221-6 Empresa Domiciliada no Exterior\",\"223-2 Sociedade Simples Pura\",\"224-0 Sociedade Simples Limitada\",\"225-9 Sociedade Simples em Nome Coletivo\",\"230-5 Empresa Individual de Responsabilidade Limitada (de Natureza Empresária)\",\"231-3 Empresa Individual de Responsabilidade Limitada (de Natureza Simples)\",\"306-9 Fundação Privada\",\"307-7 Serviço Social Autônomo\",\"308-5 Condomínio Edilício\",\"313-1 Entidade Sindical\",\"322-0 Organização Religiosa\",\"399-9 Associação Privada\",\"401-4 Empresa Individual Imobiliária\",\"Total\",\"Município\",\"101-5 Órgão Público do Poder Executivo Federal\",\"102-3 Órgão Público do Poder Executivo Estadual ou do Distrito Federal\",\"103-1 Órgão Público do Poder Executivo Municipal\",\"105-8 Órgão Público do Poder Legislativo Estadual ou do Distrito Federal\",\"110-4 Autarquia Federal\",\"111-2 Autarquia Estadual ou do Distrito Federal\",\"112-0 Autarquia Municipal\",\"113-9 Fundação Pública de Direito Público Federal\",\"114-7 Fundação Pública de Direito Público Estadual ou do Distrito Federal\",\"115-5 Fundação Pública de Direito Público Municipal\",\"121-0 Consórcio Público de Direito Público (Associação Pública)\",\"124-4 Município\",\"127-9 Fundação Pública de Direito Privado Municipal\",\"201-1 Empresa Pública\",\"203-8 Sociedade de Economia Mista\",\"204-6 Sociedade Anônima Aberta\",\"205-4 Sociedade Anônima Fechada\",\"206-2 Sociedade Empresária Limitada\",\"212-7 Sociedade em Conta de Participação\",\"213-5 Empresário (Individual)\",\"214-3 Cooperativa\",\"215-1 Consórcio de Sociedades\",\"221-6 Empresa Domiciliada no Exterior\",\"223-2 Sociedade Simples Pura\",\"224-0 Sociedade Simples Limitada\",\"225-9 Sociedade Simples em Nome Coletivo\",\"230-5 Empresa Individual de Responsabilidade Limitada (de Natureza Empresária)\",\"231-3 Empresa Individual de Responsabilidade Limitada (de Natureza Simples)\",\"232-1 Sociedade Unipessoal de Advogados\",\"306-9 Fundação Privada\",\"307-7 Serviço Social Autônomo\",\"308-5 Condomínio Edilício\",\"313-1 Entidade Sindical\",\"322-0 Organização Religiosa\",\"399-9 Associação Privada\",\"401-4 Empresa Individual Imobiliária\",\"Total\",\"Município\",\"101-5 Órgão Público do Poder Executivo Federal\",\"102-3 Órgão Público do Poder Executivo Estadual ou do Distrito Federal\",\"103-1 Órgão Público do Poder Executivo Municipal\",\"105-8 Órgão Público do Poder Legislativo Estadual ou do Distrito Federal\",\"110-4 Autarquia Federal\",\"111-2 Autarquia Estadual ou do Distrito Federal\",\"112-0 Autarquia Municipal\",\"113-9 Fundação Pública de Direito Público Federal\",\"114-7 Fundação Pública de Direito Público Estadual ou do Distrito Federal\",\"115-5 Fundação Pública de Direito Público Municipal\",\"121-0 Consórcio Público de Direito Público (Associação Pública)\",\"124-4 Município\",\"127-9 Fundação Pública de Direito Privado Municipal\",\"201-1 Empresa Pública\",\"203-8 Sociedade de Economia Mista\",\"204-6 Sociedade Anônima Aberta\",\"205-4 Sociedade Anônima Fechada\",\"206-2 Sociedade Empresária Limitada\",\"212-7 Sociedade em Conta de Participação\",\"213-5 Empresário (Individual)\",\"214-3 Cooperativa\",\"215-1 Consórcio de Sociedades\",\"221-6 Empresa Domiciliada no Exterior\",\"223-2 Sociedade Simples Pura\",\"224-0 Sociedade Simples Limitada\",\"225-9 Sociedade Simples em Nome Coletivo\",\"230-5 Empresa Individual de Responsabilidade Limitada (de Natureza Empresária)\",\"231-3 Empresa Individual de Responsabilidade Limitada (de Natureza Simples)\",\"232-1 Sociedade Unipessoal de Advogados\",\"306-9 Fundação Privada\",\"307-7 Serviço Social Autônomo\",\"308-5 Condomínio Edilício\",\"313-1 Entidade Sindical\",\"322-0 Organização Religiosa\",\"399-9 Associação Privada\",\"401-4 Empresa Individual Imobiliária\",\"Total\",\"Município\",\"101-5 Órgão Público do Poder Executivo Federal\",\"102-3 Órgão Público do Poder Executivo Estadual ou do Distrito Federal\",\"103-1 Órgão Público do Poder Executivo Municipal\",\"110-4 Autarquia Federal\",\"111-2 Autarquia Estadual ou do Distrito Federal\",\"112-0 Autarquia Municipal\",\"113-9 Fundação Pública de Direito Público Federal\",\"114-7 Fundação Pública de Direito Público Estadual ou do Distrito Federal\",\"115-5 Fundação Pública de Direito Público Municipal\",\"121-0 Consórcio Público de Direito Público (Associação Pública)\",\"124-4 Município\",\"127-9 Fundação Pública de Direito Privado Municipal\",\"201-1 Empresa Pública\",\"203-8 Sociedade de Economia Mista\",\"204-6 Sociedade Anônima Aberta\",\"205-4 Sociedade Anônima Fechada\",\"206-2 Sociedade Empresária Limitada\",\"212-7 Sociedade em Conta de Participação\",\"213-5 Empresário (Individual)\",\"214-3 Cooperativa\",\"215-1 Consórcio de Sociedades\",\"221-6 Empresa Domiciliada no Exterior\",\"223-2 Sociedade Simples Pura\",\"224-0 Sociedade Simples Limitada\",\"225-9 Sociedade Simples em Nome Coletivo\",\"230-5 Empresa Individual de Responsabilidade Limitada (de Natureza Empresária)\",\"231-3 Empresa Individual de Responsabilidade Limitada (de Natureza Simples)\",\"232-1 Sociedade Unipessoal de Advogados\",\"306-9 Fundação Privada\",\"307-7 Serviço Social Autônomo\",\"308-5 Condomínio Edilício\",\"313-1 Entidade Sindical\",\"322-0 Organização Religiosa\",\"399-9 Associação Privada\",\"401-4 Empresa Individual Imobiliária\",\"Total\",\"Município\",\"101-5 Órgão Público do Poder Executivo Federal\",\"102-3 Órgão Público do Poder Executivo Estadual ou do Distrito Federal\",\"103-1 Órgão Público do Poder Executivo Municipal\",\"110-4 Autarquia Federal\",\"111-2 Autarquia Estadual ou do Distrito Federal\",\"112-0 Autarquia Municipal\",\"113-9 Fundação Pública de Direito Público Federal\",\"114-7 Fundação Pública de Direito Público Estadual ou do Distrito Federal\",\"115-5 Fundação Pública de Direito Público Municipal\",\"121-0 Consórcio Público de Direito Público (Associação Pública)\",\"124-4 Município\",\"127-9 Fundação Pública de Direito Privado Municipal\",\"201-1 Empresa Pública\",\"203-8 Sociedade de Economia Mista\",\"204-6 Sociedade Anônima Aberta\",\"205-4 Sociedade Anônima Fechada\",\"206-2 Sociedade Empresária Limitada\",\"212-7 Sociedade em Conta de Participação\",\"213-5 Empresário (Individual)\",\"214-3 Cooperativa\",\"215-1 Consórcio de Sociedades\",\"221-6 Empresa Domiciliada no Exterior\",\"223-2 Sociedade Simples Pura\",\"224-0 Sociedade Simples Limitada\",\"225-9 Sociedade Simples em Nome Coletivo\",\"230-5 Empresa Individual de Responsabilidade Limitada (de Natureza Empresária)\",\"231-3 Empresa Individual de Responsabilidade Limitada (de Natureza Simples)\",\"232-1 Sociedade Unipessoal de Advogados\",\"306-9 Fundação Privada\",\"307-7 Serviço Social Autônomo\",\"308-5 Condomínio Edilício\",\"313-1 Entidade Sindical\",\"322-0 Organização Religiosa\",\"399-9 Associação Privada\",\"401-4 Empresa Individual Imobiliária\",\"Total\"]\n",
        "h2 = list(dict.fromkeys(h2))\n",
        "dataSUS_Est_Jur_JUN2012_DEC2020 = pd.DataFrame(columns=h2)\n",
        "dataSUS_Est_Jur_JUN2012_DEC2020['data_ref'] = ''"
      ],
      "execution_count": null,
      "outputs": []
    },
    {
      "cell_type": "code",
      "metadata": {
        "id": "77mcM_JPb3g9"
      },
      "source": [
        "#Dados dataSUS (.txt) para jurisdição de estabelecimentos\n",
        "ref = 2011.5\n",
        "for x in range(18):\n",
        "  temp = pd.read_csv(f'/content/drive/MyDrive/Material MBA - Analytics e IA/TCC/Meu TCC/1ª Entrega/Bases/Batch_Est_Jur/Est_Jur{x+1}.txt', delimiter = ';')\n",
        "  temp['data_ref'] = ref + 0.5\n",
        "  temp[list(dataSUS_Est_Jur_JUN2012_DEC2020.drop(temp.columns,axis=1).columns)] = ''\n",
        "  dataSUS_Est_Jur_JUN2012_DEC2020 = dataSUS_Est_Jur_JUN2012_DEC2020.append(temp)\n",
        "  ref = ref + 0.5\n",
        "\n",
        "dataSUS_Est_Jur_JUN2012_DEC2020 = mapping(dataSUS_Est_Jur_JUN2012_DEC2020)\n",
        "dataSUS_Est_Jur_JUN2012_DEC2020 = dataSUS_Est_Jur_JUN2012_DEC2020.reset_index().drop(['index'],axis=1)\n",
        "dataSUS_Est_Jur_JUN2012_DEC2020 = dataSUS_Est_Jur_JUN2012_DEC2020.replace(to_replace='-',value=0)\n",
        "dataSUS_Est_Jur_JUN2012_DEC2020 = dataSUS_Est_Jur_JUN2012_DEC2020.replace(to_replace='',value=0)\n",
        "dataSUS_Est_Jur_JUN2012_DEC2020['Total'] = dataSUS_Est_Jur_JUN2012_DEC2020['Total'].replace(to_replace='.0',value='',regex=True).astype(int)\n",
        "Publico = ['101-5 Órgão Público do Poder Executivo Federal','102-3 Órgão Público do Poder Executivo Estadual ou do Distrito Federal','103-1 Órgão Público do Poder Executivo Municipal','110-4 Autarquia Federal','111-2 Autarquia Estadual ou do Distrito Federal','112-0 Autarquia Municipal','113-9 Fundação Pública de Direito Público Federal','114-7 Fundação Pública de Direito Público Estadual ou do Distrito Federal','115-5 Fundação Pública de Direito Público Municipal','118-0 Órgão Público Autônomo Municipal', '120-1 Fundo Público','121-0 Consórcio Público de Direito Público (Associação Pública)','201-1 Empresa Pública','313-1 Entidade Sindical','124-4 Município','322-0 Organização Religiosa','105-8 Órgão Público do Poder Legislativo Estadual ou do Distrito Federal']\n",
        "Privado = ['203-8 Sociedade de Economia Mista','204-6 Sociedade Anônima Aberta', '205-4 Sociedade Anônima Fechada','206-2 Sociedade Empresária Limitada', '213-5 Empresário (Individual)','214-3 Cooperativa', '215-1 Consórcio de Sociedades','221-6 Empresa Domiciliada no Exterior', '223-2 Sociedade Simples Pura','224-0 Sociedade Simples Limitada','225-9 Sociedade Simples em Nome Coletivo','230-5 Empresa Individual de Responsabilidade Limitada (de Natureza Empresária)','231-3 Empresa Individual de Responsabilidade Limitada (de Natureza Simples)','306-9 Fundação Privada', '307-7 Serviço Social Autônomo','308-5 Condomínio Edilício','399-9 Associação Privada', '401-4 Empresa Individual Imobiliária','122-8 Consórcio Público de Direito Privado','212-7 Sociedade em Conta de Participação','232-1 Sociedade Unipessoal de Advogados']\n",
        "dataSUS_Est_Jur_JUN2012_DEC2020['Estabelecimentos_Publicos'] = dataSUS_Est_Jur_JUN2012_DEC2020[Publico].astype(float).sum(axis=1)\n",
        "dataSUS_Est_Jur_JUN2012_DEC2020['Estabelecimentos_Privados'] = dataSUS_Est_Jur_JUN2012_DEC2020[Privado].astype(float).sum(axis=1)\n",
        "dataSUS_Est_Jur_JUN2012_DEC2020 = dataSUS_Est_Jur_JUN2012_DEC2020.filter(['Município','Code','Cidades','Estabelecimentos_Publicos','Estabelecimentos_Privados','data_ref'])"
      ],
      "execution_count": null,
      "outputs": []
    },
    {
      "cell_type": "code",
      "metadata": {
        "id": "qnrCHavSIt60"
      },
      "source": [
        "dataSUS_Prod_Amb_VAL_atend_JAN2008_ABR2021 = mapping(dataSUS_Prod_Amb_VAL_atend_JAN2008_ABR2021)\n",
        "cities = dataSUS_Prod_Amb_VAL_atend_JAN2008_ABR2021['Município'].drop_duplicates()\n",
        "cities_list = list(cities)"
      ],
      "execution_count": null,
      "outputs": []
    },
    {
      "cell_type": "code",
      "metadata": {
        "id": "gXs7WjrcEz77"
      },
      "source": [
        "#dataSUS_Proj_faixa_ano_2020_2000 - ok\n",
        "dataSUS_Proj_faixa_ano_2020_2000 = mapping(dataSUS_Proj_faixa_ano_2020_2000)\n",
        "dataSUS_Proj_faixa_ano_2020_2000 = dataSUS_Proj_faixa_ano_2020_2000.query(f\"Município in {cities_list}\").reset_index().drop('index',axis=1)\n",
        "dataSUS_Proj_faixa_ano_2020_2000['0 a 14 anos'] = dataSUS_Proj_faixa_ano_2020_2000['De 0 a 4 anos'].astype(int)+dataSUS_Proj_faixa_ano_2020_2000['De 5 a 9 anos'].astype(int)+dataSUS_Proj_faixa_ano_2020_2000['De 10 a 14 anos'].astype(int)\n",
        "dataSUS_Proj_faixa_ano_2020_2000['15 a 29 anos'] = dataSUS_Proj_faixa_ano_2020_2000['De 15 a 19 anos'].astype(int)+dataSUS_Proj_faixa_ano_2020_2000['De 20 a 24 anos'].astype(int)+dataSUS_Proj_faixa_ano_2020_2000['De 25 a 29 anos'].astype(int)\n",
        "dataSUS_Proj_faixa_ano_2020_2000['30 a 59 anos'] = dataSUS_Proj_faixa_ano_2020_2000['De 30 a 34 anos'].astype(int)+dataSUS_Proj_faixa_ano_2020_2000['De 35 a 39 anos'].astype(int)+dataSUS_Proj_faixa_ano_2020_2000['De 40 a 44 anos'].astype(int)+dataSUS_Proj_faixa_ano_2020_2000['De 45 a 49 anos'].astype(int)+dataSUS_Proj_faixa_ano_2020_2000['De 50 a 54 anos'].astype(int)+dataSUS_Proj_faixa_ano_2020_2000['De 55 a 59 anos'].astype(int)\n",
        "dataSUS_Proj_faixa_ano_2020_2000['60+ anos'] = dataSUS_Proj_faixa_ano_2020_2000['De 60 a 64 anos'].astype(int)+dataSUS_Proj_faixa_ano_2020_2000['De 65 a 69 anos'].astype(int)+dataSUS_Proj_faixa_ano_2020_2000['De 70 a 74 anos'].astype(int)+dataSUS_Proj_faixa_ano_2020_2000['De 75 a 79 anos'].astype(int)+dataSUS_Proj_faixa_ano_2020_2000['De 80 anos ou mais'].astype(int)\n",
        "dataSUS_Proj_faixa_ano_2020_2000['Pop_Total'] = dataSUS_Proj_faixa_ano_2020_2000['Total'].astype(int)\n",
        "dataSUS_Proj_faixa_ano_2020_2000 = dataSUS_Proj_faixa_ano_2020_2000.filter(['Município','0 a 14 anos','15 a 29 anos','30 a 59 anos','60+ anos','Code','Cidades'])\n",
        "dataSUS_Proj_faixa_ano_2020_2000 = datando1_var(dataSUS_Proj_faixa_ano_2020_2000,2020)"
      ],
      "execution_count": null,
      "outputs": []
    },
    {
      "cell_type": "code",
      "metadata": {
        "id": "VeR49Bnj3kU4"
      },
      "source": [
        "#dataSUS_Proj_sexo_ano_2020_2000 - ok\n",
        "dataSUS_Proj_sexo_ano_2020_2000 = mapping(dataSUS_Proj_sexo_ano_2020_2000)\n",
        "dataSUS_Proj_sexo_ano_2020_2000 = dataSUS_Proj_sexo_ano_2020_2000.query(f'Município in {cities_list}').reset_index().drop('index',axis=1)\n",
        "dataSUS_Proj_sexo_ano_2020_2000 = datando1_var(dataSUS_Proj_sexo_ano_2020_2000,2020)\n",
        "dataSUS_Proj_sexo_ano_2020_2000['Masculino'] = dataSUS_Proj_sexo_ano_2020_2000['Masculino'].astype(int)\n",
        "dataSUS_Proj_sexo_ano_2020_2000['Feminino'] = dataSUS_Proj_sexo_ano_2020_2000['Feminino'].astype(int)\n",
        "dataSUS_Proj_sexo_ano_2020_2000['Pop_Total'] = dataSUS_Proj_sexo_ano_2020_2000['Total'].astype(int)\n",
        "dataSUS_Proj_sexo_ano_2020_2000 = dataSUS_Proj_sexo_ano_2020_2000.filter(['Município','data_ref','Code','Cidades','Masculino','Feminino','Pop_Total'])"
      ],
      "execution_count": null,
      "outputs": []
    },
    {
      "cell_type": "code",
      "metadata": {
        "id": "Gjxhy5MB8TEt"
      },
      "source": [
        "#dataSUS_Prod_Amb_VAL_atend_JAN2005_DEC2007 - ok\n",
        "dataSUS_Prod_Amb_VAL_atend_JAN2005_DEC2007 = dataSUS_Prod_Amb_VAL_atend_JAN2005_DEC2007.replace(to_replace=',',value='.',regex=True).replace(to_replace='-',value=0)\n",
        "dataSUS_Prod_Amb_VAL_atend_JAN2005_DEC2007 = medias(dataSUS_Prod_Amb_VAL_atend_JAN2005_DEC2007,3,2005)\n",
        "dataSUS_Prod_Amb_VAL_atend_JAN2005_DEC2007 = mapping(dataSUS_Prod_Amb_VAL_atend_JAN2005_DEC2007)\n",
        "dataSUS_Prod_Amb_VAL_atend_JAN2005_DEC2007 = dataSUS_Prod_Amb_VAL_atend_JAN2005_DEC2007.filter(['Município','Code','Cidades','2005','2006','2007'])\n",
        "dataSUS_Prod_Amb_VAL_atend_JAN2005_DEC2007 = dataSUS_Prod_Amb_VAL_atend_JAN2005_DEC2007.melt(id_vars = ['Município','Code','Cidades'],var_name = 'data_ref', value_name = 'Atendimentos_valor_medio')"
      ],
      "execution_count": null,
      "outputs": []
    },
    {
      "cell_type": "code",
      "metadata": {
        "id": "Hx6t1BTg7X6R"
      },
      "source": [
        "#dataSUS_Prod_Amb_VAL_atend_JAN2008_ABR2021 - ok\n",
        "dataSUS_Prod_Amb_VAL_atend_JAN2008_ABR2021 = dataSUS_Prod_Amb_VAL_atend_JAN2008_ABR2021.replace(to_replace=',',value='.',regex=True).replace(to_replace='-',value=0)\n",
        "dataSUS_Prod_Amb_VAL_atend_JAN2008_ABR2021 = medias(dataSUS_Prod_Amb_VAL_atend_JAN2008_ABR2021,13,2008)\n",
        "dataSUS_Prod_Amb_VAL_atend_JAN2008_ABR2021 = mapping(dataSUS_Prod_Amb_VAL_atend_JAN2008_ABR2021)\n",
        "dataSUS_Prod_Amb_VAL_atend_JAN2008_ABR2021 = dataSUS_Prod_Amb_VAL_atend_JAN2008_ABR2021.filter(['Município','Code','Cidades','2008','2009','2010','2011','2012','2013','2014','2015','2016','2017','2018','2019','2020'])\n",
        "dataSUS_Prod_Amb_VAL_atend_JAN2008_ABR2021 = dataSUS_Prod_Amb_VAL_atend_JAN2008_ABR2021.melt(id_vars = ['Município','Code','Cidades'],var_name = 'data_ref', value_name = 'Atendimentos_valor_medio')"
      ],
      "execution_count": null,
      "outputs": []
    },
    {
      "cell_type": "code",
      "metadata": {
        "id": "bu7oRfL6h94i"
      },
      "source": [
        "dataSUS_Prod_Amb_VAL_atend_JAN2005_ABR2021 = dataSUS_Prod_Amb_VAL_atend_JAN2005_DEC2007.append(dataSUS_Prod_Amb_VAL_atend_JAN2008_ABR2021).reset_index().drop(['index'],axis=1)\n",
        "dataSUS_Prod_Amb_VAL_atend_JAN2005_ABR2021['data_ref'] = dataSUS_Prod_Amb_VAL_atend_JAN2005_ABR2021['data_ref'].astype(int)"
      ],
      "execution_count": null,
      "outputs": []
    },
    {
      "cell_type": "code",
      "metadata": {
        "id": "ZZSguQY79CbC"
      },
      "source": [
        "#dataSUS_Prod_Amb_VAL_psi_JAN2005_DEC2007 - ok\n",
        "dataSUS_Prod_Amb_VAL_psi_JAN2005_DEC2007 = dataSUS_Prod_Amb_VAL_psi_JAN2005_DEC2007.replace(to_replace=',',value='.',regex=True).replace(to_replace='-',value=0)\n",
        "dataSUS_Prod_Amb_VAL_psi_JAN2005_DEC2007 = medias(dataSUS_Prod_Amb_VAL_psi_JAN2005_DEC2007,3,2005)\n",
        "dataSUS_Prod_Amb_VAL_psi_JAN2005_DEC2007 = mapping(dataSUS_Prod_Amb_VAL_psi_JAN2005_DEC2007)\n",
        "dataSUS_Prod_Amb_VAL_psi_JAN2005_DEC2007 = dataSUS_Prod_Amb_VAL_psi_JAN2005_DEC2007.filter(['Município','Code','Cidades','2005','2006','2007'])\n",
        "dataSUS_Prod_Amb_VAL_psi_JAN2005_DEC2007 = dataSUS_Prod_Amb_VAL_psi_JAN2005_DEC2007.melt(id_vars = ['Município','Code','Cidades'],var_name = 'data_ref', value_name = 'Psi_valor_medio')"
      ],
      "execution_count": null,
      "outputs": []
    },
    {
      "cell_type": "code",
      "metadata": {
        "id": "pm6L4KnSvtGG"
      },
      "source": [
        "#dataSUS_Prod_Amb_VAL_psi_JAN2008_ABR2021 - ok\n",
        "dataSUS_Prod_Amb_VAL_psi_JAN2008_ABR2021 = dataSUS_Prod_Amb_VAL_psi_JAN2008_ABR2021.replace(to_replace=',',value='.',regex=True).replace(to_replace='-',value=0)\n",
        "dataSUS_Prod_Amb_VAL_psi_JAN2008_ABR2021 = medias(dataSUS_Prod_Amb_VAL_psi_JAN2008_ABR2021,13,2008)\n",
        "dataSUS_Prod_Amb_VAL_psi_JAN2008_ABR2021 = mapping(dataSUS_Prod_Amb_VAL_psi_JAN2008_ABR2021)\n",
        "dataSUS_Prod_Amb_VAL_psi_JAN2008_ABR2021 = dataSUS_Prod_Amb_VAL_psi_JAN2008_ABR2021.filter(['Município','Code','Cidades','2008','2009','2010','2011','2012','2013','2014','2015','2016','2017','2018','2019','2020'])\n",
        "dataSUS_Prod_Amb_VAL_psi_JAN2008_ABR2021 = dataSUS_Prod_Amb_VAL_psi_JAN2008_ABR2021.melt(id_vars = ['Município','Code','Cidades'],var_name = 'data_ref', value_name = 'Psi_valor_medio')"
      ],
      "execution_count": null,
      "outputs": []
    },
    {
      "cell_type": "code",
      "metadata": {
        "id": "63eCiI0OiylK"
      },
      "source": [
        "dataSUS_Prod_Amb_VAL_psi_JAN2005_ABR2021 = dataSUS_Prod_Amb_VAL_psi_JAN2005_DEC2007.append(dataSUS_Prod_Amb_VAL_psi_JAN2008_ABR2021).reset_index().drop(['index'],axis=1)\n",
        "dataSUS_Prod_Amb_VAL_psi_JAN2005_ABR2021['data_ref'] = dataSUS_Prod_Amb_VAL_psi_JAN2005_ABR2021['data_ref'].astype(int)"
      ],
      "execution_count": null,
      "outputs": []
    },
    {
      "cell_type": "code",
      "metadata": {
        "id": "QsvEfgiYAjg0"
      },
      "source": [
        "#dataSUS_Prod_Amb_VAL_psi_privado_JAN2005_DEC2007 - ok\n",
        "dataSUS_Prod_Amb_VAL_psi_privado_JAN2005_DEC2007 = dataSUS_Prod_Amb_VAL_psi_privado_JAN2005_DEC2007.replace(to_replace=',',value='.',regex=True).replace(to_replace='-',value=0)\n",
        "dataSUS_Prod_Amb_VAL_psi_privado_JAN2005_DEC2007 = medias(dataSUS_Prod_Amb_VAL_psi_privado_JAN2005_DEC2007,3,2005)\n",
        "dataSUS_Prod_Amb_VAL_psi_privado_JAN2005_DEC2007 = mapping(dataSUS_Prod_Amb_VAL_psi_privado_JAN2005_DEC2007)\n",
        "dataSUS_Prod_Amb_VAL_psi_privado_JAN2005_DEC2007 = dataSUS_Prod_Amb_VAL_psi_privado_JAN2005_DEC2007.filter(['Município','Code','Cidades','2005','2006','2007'])\n",
        "dataSUS_Prod_Amb_VAL_psi_privado_JAN2005_DEC2007 = dataSUS_Prod_Amb_VAL_psi_privado_JAN2005_DEC2007.melt(id_vars = ['Município','Code','Cidades'],var_name = 'data_ref', value_name = 'Psi_privado_valor_medio')"
      ],
      "execution_count": null,
      "outputs": []
    },
    {
      "cell_type": "code",
      "metadata": {
        "id": "o8dQ7_86wUIc"
      },
      "source": [
        "#dataSUS_Prod_Amb_VAL_psi_privado_JAN2008_OUT2015 - ok\n",
        "dataSUS_Prod_Amb_VAL_psi_privado_JAN2008_OUT2015 = dataSUS_Prod_Amb_VAL_psi_privado_JAN2008_OUT2015.replace(to_replace=',',value='.',regex=True).replace(to_replace='-',value=0)\n",
        "dataSUS_Prod_Amb_VAL_psi_privado_JAN2008_OUT2015 = medias_adpt(dataSUS_Prod_Amb_VAL_psi_privado_JAN2008_OUT2015,8,2008)\n",
        "dataSUS_Prod_Amb_VAL_psi_privado_JAN2008_OUT2015 = mapping(dataSUS_Prod_Amb_VAL_psi_privado_JAN2008_OUT2015)\n",
        "dataSUS_Prod_Amb_VAL_psi_privado_JAN2008_OUT2015 = dataSUS_Prod_Amb_VAL_psi_privado_JAN2008_OUT2015.filter(['Município','Code','Cidades','2008','2009','2010','2011','2012','2013','2014','2015'])\n",
        "dataSUS_Prod_Amb_VAL_psi_privado_JAN2008_OUT2015 = dataSUS_Prod_Amb_VAL_psi_privado_JAN2008_OUT2015.melt(id_vars = ['Município','Code','Cidades'],var_name = 'data_ref', value_name = 'Psi_privado_valor_medio')"
      ],
      "execution_count": null,
      "outputs": []
    },
    {
      "cell_type": "code",
      "metadata": {
        "id": "H0GNLcFei58K"
      },
      "source": [
        "dataSUS_Prod_Amb_VAL_psi_privado_JAN2005_OUT2015 = dataSUS_Prod_Amb_VAL_psi_privado_JAN2005_DEC2007.append(dataSUS_Prod_Amb_VAL_psi_privado_JAN2008_OUT2015).reset_index().drop(['index'],axis=1)\n",
        "dataSUS_Prod_Amb_VAL_psi_privado_JAN2005_OUT2015['data_ref'] = dataSUS_Prod_Amb_VAL_psi_privado_JAN2005_OUT2015['data_ref'].astype(int)"
      ],
      "execution_count": null,
      "outputs": []
    },
    {
      "cell_type": "code",
      "metadata": {
        "id": "RMHPLi25BSuj"
      },
      "source": [
        "#dataSUS_Prod_Amb_VOL_atend_JAN2005_DEC2007 - ok\n",
        "dataSUS_Prod_Amb_VOL_atend_JAN2005_DEC2007 = dataSUS_Prod_Amb_VOL_atend_JAN2005_DEC2007.replace(to_replace='-',value=0)\n",
        "dataSUS_Prod_Amb_VOL_atend_JAN2005_DEC2007 = medias(dataSUS_Prod_Amb_VOL_atend_JAN2005_DEC2007,3,2005)\n",
        "dataSUS_Prod_Amb_VOL_atend_JAN2005_DEC2007 = mapping(dataSUS_Prod_Amb_VOL_atend_JAN2005_DEC2007)\n",
        "dataSUS_Prod_Amb_VOL_atend_JAN2005_DEC2007 = dataSUS_Prod_Amb_VOL_atend_JAN2005_DEC2007.filter(['Município','Code','Cidades','2005','2006','2007'])\n",
        "dataSUS_Prod_Amb_VOL_atend_JAN2005_DEC2007 = dataSUS_Prod_Amb_VOL_atend_JAN2005_DEC2007.melt(id_vars = ['Município','Code','Cidades'],var_name = 'data_ref', value_name = 'Atendimentos_qtd_media')"
      ],
      "execution_count": null,
      "outputs": []
    },
    {
      "cell_type": "code",
      "metadata": {
        "id": "4ZyAJazL3trc"
      },
      "source": [
        "#dataSUS_Prod_Amb_VOL_atend_JAN2008_ABR2021 - ok\n",
        "dataSUS_Prod_Amb_VOL_atend_JAN2008_ABR2021 = dataSUS_Prod_Amb_VOL_atend_JAN2008_ABR2021.replace(to_replace='-',value=0)\n",
        "dataSUS_Prod_Amb_VOL_atend_JAN2008_ABR2021 = medias(dataSUS_Prod_Amb_VOL_atend_JAN2008_ABR2021,13,2008)\n",
        "dataSUS_Prod_Amb_VOL_atend_JAN2008_ABR2021 = mapping(dataSUS_Prod_Amb_VOL_atend_JAN2008_ABR2021)\n",
        "dataSUS_Prod_Amb_VOL_atend_JAN2008_ABR2021 = dataSUS_Prod_Amb_VOL_atend_JAN2008_ABR2021.filter(['Município','Code','Cidades','2008','2009','2010','2011','2012','2013','2014','2015','2016','2017','2018','2019','2020'])\n",
        "dataSUS_Prod_Amb_VOL_atend_JAN2008_ABR2021 = dataSUS_Prod_Amb_VOL_atend_JAN2008_ABR2021.melt(id_vars = ['Município','Code','Cidades'],var_name = 'data_ref', value_name = 'Atendimentos_qtd_media')"
      ],
      "execution_count": null,
      "outputs": []
    },
    {
      "cell_type": "code",
      "metadata": {
        "id": "N4hxci7FjLiW"
      },
      "source": [
        "dataSUS_Prod_Amb_VOL_atend_JAN2005_ABR2021 = dataSUS_Prod_Amb_VOL_atend_JAN2005_DEC2007.append(dataSUS_Prod_Amb_VOL_atend_JAN2008_ABR2021).reset_index().drop(['index'],axis=1)\n",
        "dataSUS_Prod_Amb_VOL_atend_JAN2005_ABR2021['data_ref'] = dataSUS_Prod_Amb_VOL_atend_JAN2005_ABR2021['data_ref'].astype(int)"
      ],
      "execution_count": null,
      "outputs": []
    },
    {
      "cell_type": "code",
      "metadata": {
        "id": "lzeNBt_5Bc1v"
      },
      "source": [
        "#dataSUS_Prod_Amb_VOL_psi_JAN2005_DEC2007 - ok\n",
        "dataSUS_Prod_Amb_VOL_psi_JAN2005_DEC2007 = dataSUS_Prod_Amb_VOL_psi_JAN2005_DEC2007.replace(to_replace='-',value=0)\n",
        "dataSUS_Prod_Amb_VOL_psi_JAN2005_DEC2007 = medias(dataSUS_Prod_Amb_VOL_psi_JAN2005_DEC2007,3,2005)\n",
        "dataSUS_Prod_Amb_VOL_psi_JAN2005_DEC2007 = mapping(dataSUS_Prod_Amb_VOL_psi_JAN2005_DEC2007)\n",
        "dataSUS_Prod_Amb_VOL_psi_JAN2005_DEC2007 = dataSUS_Prod_Amb_VOL_psi_JAN2005_DEC2007.filter(['Município','Code','Cidades','2005','2006','2007'])\n",
        "dataSUS_Prod_Amb_VOL_psi_JAN2005_DEC2007 = dataSUS_Prod_Amb_VOL_psi_JAN2005_DEC2007.melt(id_vars = ['Município','Code','Cidades'],var_name = 'data_ref', value_name = 'Psi_qtd_media')"
      ],
      "execution_count": null,
      "outputs": []
    },
    {
      "cell_type": "code",
      "metadata": {
        "id": "SfS7V9-z47xC"
      },
      "source": [
        "#dataSUS_Prod_Amb_VOL_psi_JAN2008_ABR2021 - ok\n",
        "dataSUS_Prod_Amb_VOL_psi_JAN2008_ABR2021 = dataSUS_Prod_Amb_VOL_psi_JAN2008_ABR2021.replace(to_replace='-',value=0)\n",
        "dataSUS_Prod_Amb_VOL_psi_JAN2008_ABR2021 = medias(dataSUS_Prod_Amb_VOL_psi_JAN2008_ABR2021,13,2008)\n",
        "dataSUS_Prod_Amb_VOL_psi_JAN2008_ABR2021 = mapping(dataSUS_Prod_Amb_VOL_psi_JAN2008_ABR2021)\n",
        "dataSUS_Prod_Amb_VOL_psi_JAN2008_ABR2021 = dataSUS_Prod_Amb_VOL_psi_JAN2008_ABR2021.filter(['Município','Code','Cidades','2008','2009','2010','2011','2012','2013','2014','2015','2016','2017','2018','2019','2020'])\n",
        "dataSUS_Prod_Amb_VOL_psi_JAN2008_ABR2021 = dataSUS_Prod_Amb_VOL_psi_JAN2008_ABR2021.melt(id_vars = ['Município','Code','Cidades'],var_name = 'data_ref', value_name = 'Psi_qtd_media')"
      ],
      "execution_count": null,
      "outputs": []
    },
    {
      "cell_type": "code",
      "metadata": {
        "id": "JW7blqSqjREV"
      },
      "source": [
        "dataSUS_Prod_Amb_VOL_psi_JAN2005_ABR2021 = dataSUS_Prod_Amb_VOL_psi_JAN2005_DEC2007.append(dataSUS_Prod_Amb_VOL_psi_JAN2008_ABR2021).reset_index().drop(['index'],axis=1)\n",
        "dataSUS_Prod_Amb_VOL_psi_JAN2005_ABR2021['data_ref'] = dataSUS_Prod_Amb_VOL_psi_JAN2005_ABR2021['data_ref'].astype(int)"
      ],
      "execution_count": null,
      "outputs": []
    },
    {
      "cell_type": "code",
      "metadata": {
        "id": "avWDzjanBy2A"
      },
      "source": [
        "#dataSUS_Prod_Amb_VOL_psi_privado_JAN2005_DEC2007 - ok\n",
        "dataSUS_Prod_Amb_VOL_psi_privado_JAN2005_DEC2007 = dataSUS_Prod_Amb_VOL_psi_privado_JAN2005_DEC2007.replace(to_replace='-',value=0)\n",
        "dataSUS_Prod_Amb_VOL_psi_privado_JAN2005_DEC2007 = medias(dataSUS_Prod_Amb_VOL_psi_privado_JAN2005_DEC2007,3,2005)\n",
        "dataSUS_Prod_Amb_VOL_psi_privado_JAN2005_DEC2007 = mapping(dataSUS_Prod_Amb_VOL_psi_privado_JAN2005_DEC2007)\n",
        "dataSUS_Prod_Amb_VOL_psi_privado_JAN2005_DEC2007 = dataSUS_Prod_Amb_VOL_psi_privado_JAN2005_DEC2007.filter(['Município','Code','Cidades','2005','2006','2007'])\n",
        "dataSUS_Prod_Amb_VOL_psi_privado_JAN2005_DEC2007 = dataSUS_Prod_Amb_VOL_psi_privado_JAN2005_DEC2007.melt(id_vars = ['Município','Code','Cidades'],var_name = 'data_ref', value_name = 'Psi_privado_qtd_media')"
      ],
      "execution_count": null,
      "outputs": []
    },
    {
      "cell_type": "code",
      "metadata": {
        "id": "ReG0NfKU5520"
      },
      "source": [
        "#dataSUS_Prod_Amb_VOL_psi_privado_JAN2008_OUT2015 - ok\n",
        "dataSUS_Prod_Amb_VOL_psi_privado_JAN2008_OUT2015 = dataSUS_Prod_Amb_VOL_psi_privado_JAN2008_OUT2015.replace(to_replace='-',value=0)\n",
        "dataSUS_Prod_Amb_VOL_psi_privado_JAN2008_OUT2015 = medias_adpt(dataSUS_Prod_Amb_VOL_psi_privado_JAN2008_OUT2015,8,2008)\n",
        "dataSUS_Prod_Amb_VOL_psi_privado_JAN2008_OUT2015 = mapping(dataSUS_Prod_Amb_VOL_psi_privado_JAN2008_OUT2015)\n",
        "dataSUS_Prod_Amb_VOL_psi_privado_JAN2008_OUT2015 = dataSUS_Prod_Amb_VOL_psi_privado_JAN2008_OUT2015.filter(['Município','Code','Cidades','2008','2009','2010','2011','2012','2013','2014','2015'])\n",
        "dataSUS_Prod_Amb_VOL_psi_privado_JAN2008_OUT2015 = dataSUS_Prod_Amb_VOL_psi_privado_JAN2008_OUT2015.melt(id_vars = ['Município','Code','Cidades'],var_name = 'data_ref', value_name = 'Psi_privado_qtd_media')"
      ],
      "execution_count": null,
      "outputs": []
    },
    {
      "cell_type": "code",
      "metadata": {
        "id": "t70vu1w7jZpk"
      },
      "source": [
        "dataSUS_Prod_Amb_VOL_psi_privado_JAN2005_OUT2015 = dataSUS_Prod_Amb_VOL_psi_privado_JAN2005_DEC2007.append(dataSUS_Prod_Amb_VOL_psi_privado_JAN2008_OUT2015).reset_index().drop(['index'],axis=1)\n",
        "dataSUS_Prod_Amb_VOL_psi_privado_JAN2005_OUT2015['data_ref'] = dataSUS_Prod_Amb_VOL_psi_privado_JAN2005_OUT2015['data_ref'].astype(int)"
      ],
      "execution_count": null,
      "outputs": []
    },
    {
      "cell_type": "code",
      "metadata": {
        "id": "LLYGRj_1ETkl"
      },
      "source": [
        "#dataSUS_Prof_psi_DEC2005_JUN2007 - ok\n",
        "dataSUS_Prof_psi_DEC2005_JUN2007 = dataSUS_Prof_psi_DEC2005_JUN2007.replace(to_replace='-',value=0)\n",
        "dataSUS_Prof_psi_DEC2005_JUN2007 = datando05_var(dataSUS_Prof_psi_DEC2005_JUN2007,2007)\n",
        "dataSUS_Prof_psi_DEC2005_JUN2007 = mapping(dataSUS_Prof_psi_DEC2005_JUN2007)\n",
        "dataSUS_Prof_psi_DEC2005_JUN2007['Profissionais_Publicos'] = dataSUS_Prof_psi_DEC2005_JUN2007['Público'].astype(int) + dataSUS_Prof_psi_DEC2005_JUN2007['Filantropico'].astype(int) + dataSUS_Prof_psi_DEC2005_JUN2007['Sindicato'].astype(int)\n",
        "dataSUS_Prof_psi_DEC2005_JUN2007 = dataSUS_Prof_psi_DEC2005_JUN2007.drop(['Público','Filantropico','Sindicato'],axis=1)\n",
        "dataSUS_Prof_psi_DEC2005_JUN2007['Profissionais_Total'] = dataSUS_Prof_psi_DEC2005_JUN2007['Total'].astype(int)\n",
        "dataSUS_Prof_psi_DEC2005_JUN2007['Profissionais_Privados'] = dataSUS_Prof_psi_DEC2005_JUN2007['Privado'].astype(int)\n",
        "dataSUS_Prof_psi_DEC2005_JUN2007 = dataSUS_Prof_psi_DEC2005_JUN2007.filter(['Municípios','Code','Cidades','data_ref','Profissionais_Publicos','Profissionais_Privados','Profissionais_Total'])\n"
      ],
      "execution_count": null,
      "outputs": []
    },
    {
      "cell_type": "code",
      "metadata": {
        "id": "zsISqk6KQELI"
      },
      "source": [
        "#dataSUS_Prof_psi_DEC2007_DEC2020 - ok\n",
        "dataSUS_Prof_psi_DEC2007_DEC2020 = dataSUS_Prof_psi_DEC2007_DEC2020.replace(to_replace='-',value=0)\n",
        "dataSUS_Prof_psi_DEC2007_DEC2020 = datando05_var(dataSUS_Prof_psi_DEC2007_DEC2020,2020.5)\n",
        "dataSUS_Prof_psi_DEC2007_DEC2020 = mapping(dataSUS_Prof_psi_DEC2007_DEC2020)\n",
        "dataSUS_Prof_psi_DEC2007_DEC2020.rename(columns={'Sim':'Publico','Não':'Privado'},inplace=True)\n",
        "dataSUS_Prof_psi_DEC2007_DEC2020['Profissionais_Total'] = dataSUS_Prof_psi_DEC2007_DEC2020['Total'].astype(int)\n",
        "dataSUS_Prof_psi_DEC2007_DEC2020['Profissionais_Publicos'] = dataSUS_Prof_psi_DEC2007_DEC2020['Publico'].astype(int)\n",
        "dataSUS_Prof_psi_DEC2007_DEC2020['Profissionais_Privados'] = dataSUS_Prof_psi_DEC2007_DEC2020['Privado'].astype(int)\n",
        "dataSUS_Prof_psi_DEC2007_DEC2020 = dataSUS_Prof_psi_DEC2007_DEC2020.filter(['Município','Code','Cidades','data_ref','Profissionais_Publicos','Profissionais_Privados','Profissionais_Total'])"
      ],
      "execution_count": null,
      "outputs": []
    },
    {
      "cell_type": "code",
      "metadata": {
        "id": "chfS-M-QM-q-"
      },
      "source": [
        "dataSUS_Prof_psi_DEC2005_DEC2020 = dataSUS_Prof_psi_DEC2007_DEC2020.append(dataSUS_Prof_psi_DEC2005_JUN2007)\n",
        "dataSUS_Prof_psi_DEC2005_DEC2020 = dataSUS_Prof_psi_DEC2005_DEC2020.reset_index().drop(['index'],axis=1)\n",
        "dataSUS_Prof_psi_DEC2005_DEC2020['data_ref'] = dataSUS_Prof_psi_DEC2005_DEC2020['data_ref'].astype(float)\n",
        "dataSUS_Prof_psi_DEC2005_DEC2020['data_ref'] = np.floor(dataSUS_Prof_psi_DEC2005_DEC2020['data_ref'])\n",
        "dataSUS_Prof_psi_DEC2005_DEC2020 = dataSUS_Prof_psi_DEC2005_DEC2020.groupby(['Município','Code','Cidades','data_ref']).agg('mean').reset_index()\n",
        "dataSUS_Prof_psi_DEC2005_DEC2020['data_ref'] = dataSUS_Prof_psi_DEC2005_DEC2020['data_ref'].astype(int)"
      ],
      "execution_count": null,
      "outputs": []
    },
    {
      "cell_type": "code",
      "metadata": {
        "id": "p97KLVfce3uD"
      },
      "source": [
        "#dataSUS_Est_Jur_DEC2005_DEC2011 - ok\n",
        "dataSUS_Est_Jur_DEC2005_DEC2011 = dataSUS_Est_Jur_DEC2005_DEC2011.replace(to_replace='-',value=0)\n",
        "dataSUS_Est_Jur_DEC2005_DEC2011 = mapping(dataSUS_Est_Jur_DEC2005_DEC2011)\n",
        "dataSUS_Est_Jur_DEC2005_DEC2011 = dataSUS_Est_Jur_DEC2005_DEC2011.reset_index().drop(['index'],axis=1)\n",
        "dataSUS_Est_Jur_DEC2005_DEC2011 = datando05_var(dataSUS_Est_Jur_DEC2005_DEC2011,2011.5)\n",
        "Publico = ['Federal','Estadual','Municipal']\n",
        "dataSUS_Est_Jur_DEC2005_DEC2011['Estabelecimentos_Publicos'] = dataSUS_Est_Jur_DEC2005_DEC2011[Publico].astype(int).sum(axis=1)\n",
        "dataSUS_Est_Jur_DEC2005_DEC2011['Estabelecimentos_Privados'] = dataSUS_Est_Jur_DEC2005_DEC2011['Privada'].astype(int)\n",
        "dataSUS_Est_Jur_DEC2005_DEC2011['Estabelecimentos_Total'] = dataSUS_Est_Jur_DEC2005_DEC2011['Total'].astype(int)\n",
        "dataSUS_Est_Jur_DEC2005_DEC2011 = dataSUS_Est_Jur_DEC2005_DEC2011.filter(['Município','Code','Cidades','data_ref','Estabelecimentos_Privados','Estabelecimentos_Publicos','Estabelecimentos_Total'])"
      ],
      "execution_count": null,
      "outputs": []
    },
    {
      "cell_type": "code",
      "metadata": {
        "id": "O8Ihq5U9KVpo"
      },
      "source": [
        "dataSUS_Est_Jur_DEC2005_DEC2020 = dataSUS_Est_Jur_JUN2012_DEC2020.append(dataSUS_Est_Jur_DEC2005_DEC2011)\n",
        "dataSUS_Est_Jur_DEC2005_DEC2020 = dataSUS_Est_Jur_DEC2005_DEC2020.reset_index().drop(['index'],axis=1)\n",
        "dataSUS_Est_Jur_DEC2005_DEC2020['data_ref'] = np.floor(dataSUS_Est_Jur_DEC2005_DEC2020['data_ref'])\n",
        "dataSUS_Est_Jur_DEC2005_DEC2020 = dataSUS_Est_Jur_DEC2005_DEC2020.groupby(['Município','Code','Cidades','data_ref']).agg('mean').reset_index()\n",
        "dataSUS_Est_Jur_DEC2005_DEC2020['data_ref'] = dataSUS_Est_Jur_DEC2005_DEC2020['data_ref'].astype(int)"
      ],
      "execution_count": null,
      "outputs": []
    },
    {
      "cell_type": "code",
      "metadata": {
        "id": "7OPiGhDy9qCm"
      },
      "source": [
        "abt_psi = pd.DataFrame({'Município':cities})\n",
        "abt_psi['data_ref'] = 2020\n",
        "\n",
        "for x in range(20):\n",
        "  temp = pd.DataFrame({'Município':cities})\n",
        "  temp['data_ref'] = (2020 - (x+1))\n",
        "  abt_psi = abt_psi.append(temp)\n",
        "\n",
        "abt_psi = abt_psi.reset_index().drop(['index'],axis=1)\n",
        "abt_psi = mapping(abt_psi)"
      ],
      "execution_count": null,
      "outputs": []
    },
    {
      "cell_type": "code",
      "metadata": {
        "colab": {
          "base_uri": "https://localhost:8080/",
          "height": 69
        },
        "id": "jCTRPwE8bg_1",
        "outputId": "fc5b72ad-7917-47bf-b914-cbdf09f8cb84"
      },
      "source": [
        "'''\n",
        "pib_perc\n",
        "pib_tot\n",
        "assalariados\n",
        "renda_min \n",
        "renda_valor\n",
        "dataSUS_Proj_faixa_ano_2020_2000\n",
        "dataSUS_Proj_sexo_ano_2020_2000\n",
        "dataSUS_Prod_Amb_VAL_atend_JAN2005_ABR2021\n",
        "dataSUS_Prod_Amb_VAL_psi_JAN2005_ABR2021\n",
        "dataSUS_Prod_Amb_VAL_psi_privado_JAN2005_OUT2015\n",
        "dataSUS_Prod_Amb_VOL_atend_JAN2005_ABR2021\n",
        "dataSUS_Prod_Amb_VOL_psi_JAN2005_ABR2021\n",
        "dataSUS_Prod_Amb_VOL_psi_privado_JAN2005_OUT2015\n",
        "dataSUS_Prof_psi_DEC2005_DEC2020\n",
        "dataSUS_Est_Jur_DEC2005_DEC2020\n",
        "dataSUS_Est_Tip_DEC2005_DEC2020\n",
        "'''"
      ],
      "execution_count": null,
      "outputs": [
        {
          "output_type": "execute_result",
          "data": {
            "application/vnd.google.colaboratory.intrinsic+json": {
              "type": "string"
            },
            "text/plain": [
              "'\\npib_perc\\npib_tot\\nassalariados\\nrenda_min \\nrenda_valor\\ndataSUS_Proj_faixa_ano_2020_2000\\ndataSUS_Proj_sexo_ano_2020_2000\\ndataSUS_Prod_Amb_VAL_atend_JAN2005_ABR2021\\ndataSUS_Prod_Amb_VAL_psi_JAN2005_ABR2021\\ndataSUS_Prod_Amb_VAL_psi_privado_JAN2005_OUT2015\\ndataSUS_Prod_Amb_VOL_atend_JAN2005_ABR2021\\ndataSUS_Prod_Amb_VOL_psi_JAN2005_ABR2021\\ndataSUS_Prod_Amb_VOL_psi_privado_JAN2005_OUT2015\\ndataSUS_Prof_psi_DEC2005_DEC2020\\ndataSUS_Est_Jur_DEC2005_DEC2020\\ndataSUS_Est_Tip_DEC2005_DEC2020\\n'"
            ]
          },
          "metadata": {
            "tags": []
          },
          "execution_count": 43
        }
      ]
    },
    {
      "cell_type": "code",
      "metadata": {
        "id": "iJ2lGd4VYtRy"
      },
      "source": [
        "bases_txt = [dataSUS_Proj_faixa_ano_2020_2000,dataSUS_Proj_sexo_ano_2020_2000,dataSUS_Prod_Amb_VAL_atend_JAN2005_ABR2021,dataSUS_Prod_Amb_VAL_psi_JAN2005_ABR2021,dataSUS_Prod_Amb_VAL_psi_privado_JAN2005_OUT2015,dataSUS_Prod_Amb_VOL_atend_JAN2005_ABR2021,dataSUS_Prod_Amb_VOL_psi_JAN2005_ABR2021,dataSUS_Prod_Amb_VOL_psi_privado_JAN2005_OUT2015,dataSUS_Prof_psi_DEC2005_DEC2020,dataSUS_Est_Jur_DEC2005_DEC2020,dataSUS_Est_Tip_DEC2005_DEC2020]\n",
        "bases_csv = [pib_perc,pib_tot,assalariados,renda_min,renda_valor]\n",
        "\n",
        "for x in bases_txt:\n",
        "  abt_psi = abt_psi.merge(x, how='left', on=['Município','data_ref','Cidades','Code'])\n",
        "\n",
        "for y in bases_csv:\n",
        "  y['Code'] = y['Cód.'].astype(str).str.slice(start=0,stop=6).astype(int)\n",
        "  y['data_ref'] = y['Ano'].astype(int)\n",
        "  y = y.drop(['Cód.','Nível','Município','Ano'],axis=1)\n",
        "  abt_psi['Code'] = abt_psi['Code'].astype(int)\n",
        "  abt_psi = abt_psi.merge(y, how='left', on=['Code','data_ref'])"
      ],
      "execution_count": null,
      "outputs": []
    },
    {
      "cell_type": "code",
      "metadata": {
        "colab": {
          "base_uri": "https://localhost:8080/",
          "height": 706
        },
        "id": "C80MhZeGaTBi",
        "outputId": "34f7256c-38c6-4099-8d0b-3fb4087b2d49"
      },
      "source": [
        "abt_psi"
      ],
      "execution_count": null,
      "outputs": [
        {
          "output_type": "execute_result",
          "data": {
            "text/html": [
              "<div>\n",
              "<style scoped>\n",
              "    .dataframe tbody tr th:only-of-type {\n",
              "        vertical-align: middle;\n",
              "    }\n",
              "\n",
              "    .dataframe tbody tr th {\n",
              "        vertical-align: top;\n",
              "    }\n",
              "\n",
              "    .dataframe thead th {\n",
              "        text-align: right;\n",
              "    }\n",
              "</style>\n",
              "<table border=\"1\" class=\"dataframe\">\n",
              "  <thead>\n",
              "    <tr style=\"text-align: right;\">\n",
              "      <th></th>\n",
              "      <th>Município</th>\n",
              "      <th>data_ref</th>\n",
              "      <th>Code</th>\n",
              "      <th>Cidades</th>\n",
              "      <th>0 a 14 anos</th>\n",
              "      <th>15 a 29 anos</th>\n",
              "      <th>30 a 59 anos</th>\n",
              "      <th>60+ anos</th>\n",
              "      <th>Masculino</th>\n",
              "      <th>Feminino</th>\n",
              "      <th>Pop_Total</th>\n",
              "      <th>Atendimentos_valor_medio</th>\n",
              "      <th>Psi_valor_medio</th>\n",
              "      <th>Psi_privado_valor_medio</th>\n",
              "      <th>Atendimentos_qtd_media</th>\n",
              "      <th>Psi_qtd_media</th>\n",
              "      <th>Psi_privado_qtd_media</th>\n",
              "      <th>Profissionais_Publicos</th>\n",
              "      <th>Profissionais_Privados</th>\n",
              "      <th>Profissionais_Total</th>\n",
              "      <th>Estabelecimentos_Publicos</th>\n",
              "      <th>Estabelecimentos_Privados</th>\n",
              "      <th>Estabelecimentos_Total_x</th>\n",
              "      <th>Estabelecimentos_Psi</th>\n",
              "      <th>Estabelecimentos_Atend</th>\n",
              "      <th>Estabelecimentos_Total_y</th>\n",
              "      <th>Contribuição para o PIB estadual %</th>\n",
              "      <th>PIB (mil R$)</th>\n",
              "      <th>Assalariados</th>\n",
              "      <th>Renda média em Salários mínimos</th>\n",
              "      <th>Renda média (R$)</th>\n",
              "    </tr>\n",
              "  </thead>\n",
              "  <tbody>\n",
              "    <tr>\n",
              "      <th>0</th>\n",
              "      <td>350010 Adamantina</td>\n",
              "      <td>2020</td>\n",
              "      <td>350010</td>\n",
              "      <td>Adamantina</td>\n",
              "      <td>5349</td>\n",
              "      <td>6252</td>\n",
              "      <td>15554</td>\n",
              "      <td>7956</td>\n",
              "      <td>17085</td>\n",
              "      <td>18026</td>\n",
              "      <td>35111</td>\n",
              "      <td>368736.08</td>\n",
              "      <td>29446.43</td>\n",
              "      <td>NaN</td>\n",
              "      <td>24945.58</td>\n",
              "      <td>2359.92</td>\n",
              "      <td>NaN</td>\n",
              "      <td>13.5</td>\n",
              "      <td>28.5</td>\n",
              "      <td>42.0</td>\n",
              "      <td>21.5</td>\n",
              "      <td>69.5</td>\n",
              "      <td>NaN</td>\n",
              "      <td>126.0</td>\n",
              "      <td>139.0</td>\n",
              "      <td>145.0</td>\n",
              "      <td>NaN</td>\n",
              "      <td>NaN</td>\n",
              "      <td>NaN</td>\n",
              "      <td>NaN</td>\n",
              "      <td>NaN</td>\n",
              "    </tr>\n",
              "    <tr>\n",
              "      <th>1</th>\n",
              "      <td>350020 Adolfo</td>\n",
              "      <td>2020</td>\n",
              "      <td>350020</td>\n",
              "      <td>Adolfo</td>\n",
              "      <td>574</td>\n",
              "      <td>608</td>\n",
              "      <td>1575</td>\n",
              "      <td>797</td>\n",
              "      <td>1754</td>\n",
              "      <td>1800</td>\n",
              "      <td>3554</td>\n",
              "      <td>1496.20</td>\n",
              "      <td>NaN</td>\n",
              "      <td>NaN</td>\n",
              "      <td>3122.92</td>\n",
              "      <td>NaN</td>\n",
              "      <td>NaN</td>\n",
              "      <td>3.0</td>\n",
              "      <td>0.0</td>\n",
              "      <td>3.0</td>\n",
              "      <td>2.5</td>\n",
              "      <td>1.0</td>\n",
              "      <td>NaN</td>\n",
              "      <td>4.0</td>\n",
              "      <td>4.5</td>\n",
              "      <td>5.5</td>\n",
              "      <td>NaN</td>\n",
              "      <td>NaN</td>\n",
              "      <td>NaN</td>\n",
              "      <td>NaN</td>\n",
              "      <td>NaN</td>\n",
              "    </tr>\n",
              "    <tr>\n",
              "      <th>2</th>\n",
              "      <td>350030 Aguaí</td>\n",
              "      <td>2020</td>\n",
              "      <td>350030</td>\n",
              "      <td>Aguaí</td>\n",
              "      <td>7928</td>\n",
              "      <td>8266</td>\n",
              "      <td>15055</td>\n",
              "      <td>5399</td>\n",
              "      <td>18756</td>\n",
              "      <td>17892</td>\n",
              "      <td>36648</td>\n",
              "      <td>72510.73</td>\n",
              "      <td>2009.02</td>\n",
              "      <td>NaN</td>\n",
              "      <td>36238.42</td>\n",
              "      <td>234.67</td>\n",
              "      <td>NaN</td>\n",
              "      <td>5.0</td>\n",
              "      <td>10.0</td>\n",
              "      <td>15.0</td>\n",
              "      <td>14.5</td>\n",
              "      <td>17.0</td>\n",
              "      <td>NaN</td>\n",
              "      <td>54.0</td>\n",
              "      <td>57.5</td>\n",
              "      <td>64.5</td>\n",
              "      <td>NaN</td>\n",
              "      <td>NaN</td>\n",
              "      <td>NaN</td>\n",
              "      <td>NaN</td>\n",
              "      <td>NaN</td>\n",
              "    </tr>\n",
              "    <tr>\n",
              "      <th>3</th>\n",
              "      <td>350040 Águas da Prata</td>\n",
              "      <td>2020</td>\n",
              "      <td>350040</td>\n",
              "      <td>Águas da Prata</td>\n",
              "      <td>1307</td>\n",
              "      <td>1389</td>\n",
              "      <td>3521</td>\n",
              "      <td>2004</td>\n",
              "      <td>4075</td>\n",
              "      <td>4146</td>\n",
              "      <td>8221</td>\n",
              "      <td>4813.42</td>\n",
              "      <td>27.12</td>\n",
              "      <td>NaN</td>\n",
              "      <td>3931.08</td>\n",
              "      <td>9.58</td>\n",
              "      <td>NaN</td>\n",
              "      <td>1.0</td>\n",
              "      <td>0.5</td>\n",
              "      <td>1.5</td>\n",
              "      <td>3.0</td>\n",
              "      <td>1.0</td>\n",
              "      <td>NaN</td>\n",
              "      <td>2.0</td>\n",
              "      <td>3.0</td>\n",
              "      <td>4.0</td>\n",
              "      <td>NaN</td>\n",
              "      <td>NaN</td>\n",
              "      <td>NaN</td>\n",
              "      <td>NaN</td>\n",
              "      <td>NaN</td>\n",
              "    </tr>\n",
              "    <tr>\n",
              "      <th>4</th>\n",
              "      <td>350050 Águas de Lindóia</td>\n",
              "      <td>2020</td>\n",
              "      <td>350050</td>\n",
              "      <td>Águas de Lindóia</td>\n",
              "      <td>3229</td>\n",
              "      <td>3683</td>\n",
              "      <td>8168</td>\n",
              "      <td>3728</td>\n",
              "      <td>9207</td>\n",
              "      <td>9601</td>\n",
              "      <td>18808</td>\n",
              "      <td>20172.19</td>\n",
              "      <td>0.00</td>\n",
              "      <td>NaN</td>\n",
              "      <td>2408.25</td>\n",
              "      <td>419.08</td>\n",
              "      <td>NaN</td>\n",
              "      <td>4.0</td>\n",
              "      <td>3.0</td>\n",
              "      <td>7.0</td>\n",
              "      <td>7.0</td>\n",
              "      <td>19.5</td>\n",
              "      <td>NaN</td>\n",
              "      <td>33.0</td>\n",
              "      <td>40.5</td>\n",
              "      <td>41.5</td>\n",
              "      <td>NaN</td>\n",
              "      <td>NaN</td>\n",
              "      <td>NaN</td>\n",
              "      <td>NaN</td>\n",
              "      <td>NaN</td>\n",
              "    </tr>\n",
              "    <tr>\n",
              "      <th>...</th>\n",
              "      <td>...</td>\n",
              "      <td>...</td>\n",
              "      <td>...</td>\n",
              "      <td>...</td>\n",
              "      <td>...</td>\n",
              "      <td>...</td>\n",
              "      <td>...</td>\n",
              "      <td>...</td>\n",
              "      <td>...</td>\n",
              "      <td>...</td>\n",
              "      <td>...</td>\n",
              "      <td>...</td>\n",
              "      <td>...</td>\n",
              "      <td>...</td>\n",
              "      <td>...</td>\n",
              "      <td>...</td>\n",
              "      <td>...</td>\n",
              "      <td>...</td>\n",
              "      <td>...</td>\n",
              "      <td>...</td>\n",
              "      <td>...</td>\n",
              "      <td>...</td>\n",
              "      <td>...</td>\n",
              "      <td>...</td>\n",
              "      <td>...</td>\n",
              "      <td>...</td>\n",
              "      <td>...</td>\n",
              "      <td>...</td>\n",
              "      <td>...</td>\n",
              "      <td>...</td>\n",
              "      <td>...</td>\n",
              "    </tr>\n",
              "    <tr>\n",
              "      <th>13540</th>\n",
              "      <td>355690 Vista Alegre do Alto</td>\n",
              "      <td>2000</td>\n",
              "      <td>355690</td>\n",
              "      <td>Vista Alegre do Alto</td>\n",
              "      <td>1170</td>\n",
              "      <td>1324</td>\n",
              "      <td>1816</td>\n",
              "      <td>531</td>\n",
              "      <td>2430</td>\n",
              "      <td>2411</td>\n",
              "      <td>4841</td>\n",
              "      <td>NaN</td>\n",
              "      <td>NaN</td>\n",
              "      <td>NaN</td>\n",
              "      <td>NaN</td>\n",
              "      <td>NaN</td>\n",
              "      <td>NaN</td>\n",
              "      <td>NaN</td>\n",
              "      <td>NaN</td>\n",
              "      <td>NaN</td>\n",
              "      <td>NaN</td>\n",
              "      <td>NaN</td>\n",
              "      <td>NaN</td>\n",
              "      <td>NaN</td>\n",
              "      <td>NaN</td>\n",
              "      <td>NaN</td>\n",
              "      <td>NaN</td>\n",
              "      <td>NaN</td>\n",
              "      <td>NaN</td>\n",
              "      <td>NaN</td>\n",
              "      <td>NaN</td>\n",
              "    </tr>\n",
              "    <tr>\n",
              "      <th>13541</th>\n",
              "      <td>355695 Vitória Brasil</td>\n",
              "      <td>2000</td>\n",
              "      <td>355695</td>\n",
              "      <td>Vitória Brasil</td>\n",
              "      <td>409</td>\n",
              "      <td>503</td>\n",
              "      <td>603</td>\n",
              "      <td>191</td>\n",
              "      <td>877</td>\n",
              "      <td>829</td>\n",
              "      <td>1706</td>\n",
              "      <td>NaN</td>\n",
              "      <td>NaN</td>\n",
              "      <td>NaN</td>\n",
              "      <td>NaN</td>\n",
              "      <td>NaN</td>\n",
              "      <td>NaN</td>\n",
              "      <td>NaN</td>\n",
              "      <td>NaN</td>\n",
              "      <td>NaN</td>\n",
              "      <td>NaN</td>\n",
              "      <td>NaN</td>\n",
              "      <td>NaN</td>\n",
              "      <td>NaN</td>\n",
              "      <td>NaN</td>\n",
              "      <td>NaN</td>\n",
              "      <td>NaN</td>\n",
              "      <td>NaN</td>\n",
              "      <td>NaN</td>\n",
              "      <td>NaN</td>\n",
              "      <td>NaN</td>\n",
              "    </tr>\n",
              "    <tr>\n",
              "      <th>13542</th>\n",
              "      <td>355700 Votorantim</td>\n",
              "      <td>2000</td>\n",
              "      <td>355700</td>\n",
              "      <td>Votorantim</td>\n",
              "      <td>28365</td>\n",
              "      <td>27919</td>\n",
              "      <td>34599</td>\n",
              "      <td>6805</td>\n",
              "      <td>48744</td>\n",
              "      <td>48944</td>\n",
              "      <td>97688</td>\n",
              "      <td>NaN</td>\n",
              "      <td>NaN</td>\n",
              "      <td>NaN</td>\n",
              "      <td>NaN</td>\n",
              "      <td>NaN</td>\n",
              "      <td>NaN</td>\n",
              "      <td>NaN</td>\n",
              "      <td>NaN</td>\n",
              "      <td>NaN</td>\n",
              "      <td>NaN</td>\n",
              "      <td>NaN</td>\n",
              "      <td>NaN</td>\n",
              "      <td>NaN</td>\n",
              "      <td>NaN</td>\n",
              "      <td>NaN</td>\n",
              "      <td>NaN</td>\n",
              "      <td>NaN</td>\n",
              "      <td>NaN</td>\n",
              "      <td>NaN</td>\n",
              "      <td>NaN</td>\n",
              "    </tr>\n",
              "    <tr>\n",
              "      <th>13543</th>\n",
              "      <td>355710 Votuporanga</td>\n",
              "      <td>2000</td>\n",
              "      <td>355710</td>\n",
              "      <td>Votuporanga</td>\n",
              "      <td>17828</td>\n",
              "      <td>20125</td>\n",
              "      <td>30283</td>\n",
              "      <td>8795</td>\n",
              "      <td>37805</td>\n",
              "      <td>39226</td>\n",
              "      <td>77031</td>\n",
              "      <td>NaN</td>\n",
              "      <td>NaN</td>\n",
              "      <td>NaN</td>\n",
              "      <td>NaN</td>\n",
              "      <td>NaN</td>\n",
              "      <td>NaN</td>\n",
              "      <td>NaN</td>\n",
              "      <td>NaN</td>\n",
              "      <td>NaN</td>\n",
              "      <td>NaN</td>\n",
              "      <td>NaN</td>\n",
              "      <td>NaN</td>\n",
              "      <td>NaN</td>\n",
              "      <td>NaN</td>\n",
              "      <td>NaN</td>\n",
              "      <td>NaN</td>\n",
              "      <td>NaN</td>\n",
              "      <td>NaN</td>\n",
              "      <td>NaN</td>\n",
              "      <td>NaN</td>\n",
              "    </tr>\n",
              "    <tr>\n",
              "      <th>13544</th>\n",
              "      <td>355715 Zacarias</td>\n",
              "      <td>2000</td>\n",
              "      <td>355715</td>\n",
              "      <td>Zacarias</td>\n",
              "      <td>488</td>\n",
              "      <td>501</td>\n",
              "      <td>756</td>\n",
              "      <td>238</td>\n",
              "      <td>1027</td>\n",
              "      <td>956</td>\n",
              "      <td>1983</td>\n",
              "      <td>NaN</td>\n",
              "      <td>NaN</td>\n",
              "      <td>NaN</td>\n",
              "      <td>NaN</td>\n",
              "      <td>NaN</td>\n",
              "      <td>NaN</td>\n",
              "      <td>NaN</td>\n",
              "      <td>NaN</td>\n",
              "      <td>NaN</td>\n",
              "      <td>NaN</td>\n",
              "      <td>NaN</td>\n",
              "      <td>NaN</td>\n",
              "      <td>NaN</td>\n",
              "      <td>NaN</td>\n",
              "      <td>NaN</td>\n",
              "      <td>NaN</td>\n",
              "      <td>NaN</td>\n",
              "      <td>NaN</td>\n",
              "      <td>NaN</td>\n",
              "      <td>NaN</td>\n",
              "    </tr>\n",
              "  </tbody>\n",
              "</table>\n",
              "<p>13545 rows × 31 columns</p>\n",
              "</div>"
            ],
            "text/plain": [
              "                         Município  ... Renda média (R$)\n",
              "0                350010 Adamantina  ...              NaN\n",
              "1                    350020 Adolfo  ...              NaN\n",
              "2                     350030 Aguaí  ...              NaN\n",
              "3            350040 Águas da Prata  ...              NaN\n",
              "4          350050 Águas de Lindóia  ...              NaN\n",
              "...                            ...  ...              ...\n",
              "13540  355690 Vista Alegre do Alto  ...              NaN\n",
              "13541        355695 Vitória Brasil  ...              NaN\n",
              "13542            355700 Votorantim  ...              NaN\n",
              "13543           355710 Votuporanga  ...              NaN\n",
              "13544              355715 Zacarias  ...              NaN\n",
              "\n",
              "[13545 rows x 31 columns]"
            ]
          },
          "metadata": {
            "tags": []
          },
          "execution_count": 49
        }
      ]
    },
    {
      "cell_type": "code",
      "metadata": {
        "id": "L52J6khsxmRQ"
      },
      "source": [
        "abt_psi.to_csv('abt_psi.csv',sep='|')"
      ],
      "execution_count": null,
      "outputs": []
    }
  ]
}